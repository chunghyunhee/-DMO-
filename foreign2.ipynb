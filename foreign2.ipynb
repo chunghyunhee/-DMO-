{
 "cells": [
  {
   "cell_type": "code",
   "execution_count": 206,
   "metadata": {},
   "outputs": [],
   "source": [
    "import pandas as pd"
   ]
  },
  {
   "cell_type": "code",
   "execution_count": 207,
   "metadata": {},
   "outputs": [],
   "source": [
    "df1 = pd.read_excel('개인단위전처리이후.xlsx', sheet_name = 0)"
   ]
  },
  {
   "cell_type": "code",
   "execution_count": 208,
   "metadata": {},
   "outputs": [],
   "source": [
    "df2 = pd.read_excel('가구_국내해외전처리이후.xlsx', sheet_name = 0)"
   ]
  },
  {
   "cell_type": "code",
   "execution_count": 209,
   "metadata": {},
   "outputs": [
    {
     "name": "stderr",
     "output_type": "stream",
     "text": [
      "C:\\Users\\a\\Anaconda3\\lib\\site-packages\\ipykernel_launcher.py:1: FutureWarning: Sorting because non-concatenation axis is not aligned. A future version\n",
      "of pandas will change to not sort by default.\n",
      "\n",
      "To accept the future behavior, pass 'sort=False'.\n",
      "\n",
      "To retain the current behavior and silence the warning, pass 'sort=True'.\n",
      "\n",
      "  \"\"\"Entry point for launching an IPython kernel.\n"
     ]
    }
   ],
   "source": [
    "df3 = pd.concat([df1, df2], ignore_index= True)"
   ]
  },
  {
   "cell_type": "code",
   "execution_count": 210,
   "metadata": {},
   "outputs": [
    {
     "data": {
      "text/html": [
       "<div>\n",
       "<style scoped>\n",
       "    .dataframe tbody tr th:only-of-type {\n",
       "        vertical-align: middle;\n",
       "    }\n",
       "\n",
       "    .dataframe tbody tr th {\n",
       "        vertical-align: top;\n",
       "    }\n",
       "\n",
       "    .dataframe thead th {\n",
       "        text-align: right;\n",
       "    }\n",
       "</style>\n",
       "<table border=\"1\" class=\"dataframe\">\n",
       "  <thead>\n",
       "    <tr style=\"text-align: right;\">\n",
       "      <th></th>\n",
       "      <th>HID</th>\n",
       "      <th>M_ID</th>\n",
       "      <th>Month</th>\n",
       "      <th>Unnamed: 0</th>\n",
       "      <th>age</th>\n",
       "      <th>ara_size</th>\n",
       "      <th>fac</th>\n",
       "      <th>h_inc1</th>\n",
       "      <th>h_inc2</th>\n",
       "      <th>inc1_1</th>\n",
       "      <th>...</th>\n",
       "      <th>q6_9</th>\n",
       "      <th>q7</th>\n",
       "      <th>q7_2</th>\n",
       "      <th>q8</th>\n",
       "      <th>q9</th>\n",
       "      <th>q9_1</th>\n",
       "      <th>q9_2</th>\n",
       "      <th>sex</th>\n",
       "      <th>sido18</th>\n",
       "      <th>type1</th>\n",
       "    </tr>\n",
       "  </thead>\n",
       "  <tbody>\n",
       "    <tr>\n",
       "      <th>0</th>\n",
       "      <td>10001</td>\n",
       "      <td>115439.0</td>\n",
       "      <td>8.0</td>\n",
       "      <td>NaN</td>\n",
       "      <td>40.0</td>\n",
       "      <td>NaN</td>\n",
       "      <td>NaN</td>\n",
       "      <td>NaN</td>\n",
       "      <td>NaN</td>\n",
       "      <td>4000.0</td>\n",
       "      <td>...</td>\n",
       "      <td>4.0</td>\n",
       "      <td>100000.0</td>\n",
       "      <td>100000.0</td>\n",
       "      <td>2.0</td>\n",
       "      <td>2.0</td>\n",
       "      <td>NaN</td>\n",
       "      <td>2.0</td>\n",
       "      <td>1.0</td>\n",
       "      <td>1</td>\n",
       "      <td>1</td>\n",
       "    </tr>\n",
       "    <tr>\n",
       "      <th>1</th>\n",
       "      <td>10001</td>\n",
       "      <td>115441.0</td>\n",
       "      <td>12.0</td>\n",
       "      <td>NaN</td>\n",
       "      <td>40.0</td>\n",
       "      <td>NaN</td>\n",
       "      <td>NaN</td>\n",
       "      <td>NaN</td>\n",
       "      <td>NaN</td>\n",
       "      <td>4000.0</td>\n",
       "      <td>...</td>\n",
       "      <td>4.0</td>\n",
       "      <td>100000.0</td>\n",
       "      <td>100000.0</td>\n",
       "      <td>2.0</td>\n",
       "      <td>2.0</td>\n",
       "      <td>NaN</td>\n",
       "      <td>2.0</td>\n",
       "      <td>2.0</td>\n",
       "      <td>1</td>\n",
       "      <td>1</td>\n",
       "    </tr>\n",
       "    <tr>\n",
       "      <th>2</th>\n",
       "      <td>10002</td>\n",
       "      <td>123587.0</td>\n",
       "      <td>10.0</td>\n",
       "      <td>NaN</td>\n",
       "      <td>46.0</td>\n",
       "      <td>NaN</td>\n",
       "      <td>NaN</td>\n",
       "      <td>NaN</td>\n",
       "      <td>NaN</td>\n",
       "      <td>4000.0</td>\n",
       "      <td>...</td>\n",
       "      <td>4.0</td>\n",
       "      <td>600000.0</td>\n",
       "      <td>600000.0</td>\n",
       "      <td>2.0</td>\n",
       "      <td>2.0</td>\n",
       "      <td>NaN</td>\n",
       "      <td>NaN</td>\n",
       "      <td>2.0</td>\n",
       "      <td>1</td>\n",
       "      <td>1</td>\n",
       "    </tr>\n",
       "    <tr>\n",
       "      <th>3</th>\n",
       "      <td>10003</td>\n",
       "      <td>110795.0</td>\n",
       "      <td>4.0</td>\n",
       "      <td>NaN</td>\n",
       "      <td>28.0</td>\n",
       "      <td>NaN</td>\n",
       "      <td>NaN</td>\n",
       "      <td>NaN</td>\n",
       "      <td>NaN</td>\n",
       "      <td>2500.0</td>\n",
       "      <td>...</td>\n",
       "      <td>3.0</td>\n",
       "      <td>300000.0</td>\n",
       "      <td>300000.0</td>\n",
       "      <td>2.0</td>\n",
       "      <td>2.0</td>\n",
       "      <td>NaN</td>\n",
       "      <td>NaN</td>\n",
       "      <td>2.0</td>\n",
       "      <td>1</td>\n",
       "      <td>1</td>\n",
       "    </tr>\n",
       "    <tr>\n",
       "      <th>4</th>\n",
       "      <td>10004</td>\n",
       "      <td>110798.0</td>\n",
       "      <td>4.0</td>\n",
       "      <td>NaN</td>\n",
       "      <td>63.0</td>\n",
       "      <td>NaN</td>\n",
       "      <td>NaN</td>\n",
       "      <td>NaN</td>\n",
       "      <td>NaN</td>\n",
       "      <td>3000.0</td>\n",
       "      <td>...</td>\n",
       "      <td>4.0</td>\n",
       "      <td>1370000.0</td>\n",
       "      <td>1370000.0</td>\n",
       "      <td>2.0</td>\n",
       "      <td>2.0</td>\n",
       "      <td>NaN</td>\n",
       "      <td>2.0</td>\n",
       "      <td>1.0</td>\n",
       "      <td>1</td>\n",
       "      <td>1</td>\n",
       "    </tr>\n",
       "  </tbody>\n",
       "</table>\n",
       "<p>5 rows × 107 columns</p>\n",
       "</div>"
      ],
      "text/plain": [
       "     HID      M_ID  Month  Unnamed: 0   age  ara_size  fac  h_inc1  h_inc2  \\\n",
       "0  10001  115439.0    8.0         NaN  40.0       NaN  NaN     NaN     NaN   \n",
       "1  10001  115441.0   12.0         NaN  40.0       NaN  NaN     NaN     NaN   \n",
       "2  10002  123587.0   10.0         NaN  46.0       NaN  NaN     NaN     NaN   \n",
       "3  10003  110795.0    4.0         NaN  28.0       NaN  NaN     NaN     NaN   \n",
       "4  10004  110798.0    4.0         NaN  63.0       NaN  NaN     NaN     NaN   \n",
       "\n",
       "   inc1_1  ...  q6_9         q7       q7_2   q8   q9  q9_1  q9_2  sex  sido18  \\\n",
       "0  4000.0  ...   4.0   100000.0   100000.0  2.0  2.0   NaN   2.0  1.0       1   \n",
       "1  4000.0  ...   4.0   100000.0   100000.0  2.0  2.0   NaN   2.0  2.0       1   \n",
       "2  4000.0  ...   4.0   600000.0   600000.0  2.0  2.0   NaN   NaN  2.0       1   \n",
       "3  2500.0  ...   3.0   300000.0   300000.0  2.0  2.0   NaN   NaN  2.0       1   \n",
       "4  3000.0  ...   4.0  1370000.0  1370000.0  2.0  2.0   NaN   2.0  1.0       1   \n",
       "\n",
       "   type1  \n",
       "0      1  \n",
       "1      1  \n",
       "2      1  \n",
       "3      1  \n",
       "4      1  \n",
       "\n",
       "[5 rows x 107 columns]"
      ]
     },
     "execution_count": 210,
     "metadata": {},
     "output_type": "execute_result"
    }
   ],
   "source": [
    "df3.head()"
   ]
  },
  {
   "cell_type": "code",
   "execution_count": 211,
   "metadata": {},
   "outputs": [
    {
     "data": {
      "text/plain": [
       "(13241, 107)"
      ]
     },
     "execution_count": 211,
     "metadata": {},
     "output_type": "execute_result"
    }
   ],
   "source": [
    "df3.shape"
   ]
  },
  {
   "cell_type": "code",
   "execution_count": 212,
   "metadata": {},
   "outputs": [
    {
     "data": {
      "text/plain": [
       "((6924, 99), (6317, 103))"
      ]
     },
     "execution_count": 212,
     "metadata": {},
     "output_type": "execute_result"
    }
   ],
   "source": [
    "df1.shape, df2.shape"
   ]
  },
  {
   "cell_type": "code",
   "execution_count": 213,
   "metadata": {},
   "outputs": [
    {
     "data": {
      "text/plain": [
       "13241"
      ]
     },
     "execution_count": 213,
     "metadata": {},
     "output_type": "execute_result"
    }
   ],
   "source": [
    "6924+6317"
   ]
  },
  {
   "cell_type": "code",
   "execution_count": 214,
   "metadata": {},
   "outputs": [],
   "source": [
    "df2.drop(['q5_a', 'q5_b', 'q5_c', 'ara_size', 'fac', 'h_inc1', 'h_inc2'], axis=1, inplace= True)"
   ]
  },
  {
   "cell_type": "code",
   "execution_count": 215,
   "metadata": {},
   "outputs": [],
   "source": [
    "df1.drop(['sex', 'age', 'inc1_1', 'inc2_1'], axis=1, inplace= True)"
   ]
  },
  {
   "cell_type": "code",
   "execution_count": 216,
   "metadata": {},
   "outputs": [
    {
     "name": "stderr",
     "output_type": "stream",
     "text": [
      "C:\\Users\\a\\Anaconda3\\lib\\site-packages\\ipykernel_launcher.py:1: FutureWarning: Sorting because non-concatenation axis is not aligned. A future version\n",
      "of pandas will change to not sort by default.\n",
      "\n",
      "To accept the future behavior, pass 'sort=False'.\n",
      "\n",
      "To retain the current behavior and silence the warning, pass 'sort=True'.\n",
      "\n",
      "  \"\"\"Entry point for launching an IPython kernel.\n"
     ]
    }
   ],
   "source": [
    "df3 = pd.concat([df1,df2], ignore_index= True)"
   ]
  },
  {
   "cell_type": "code",
   "execution_count": 217,
   "metadata": {},
   "outputs": [
    {
     "data": {
      "text/plain": [
       "(13241, 96)"
      ]
     },
     "execution_count": 217,
     "metadata": {},
     "output_type": "execute_result"
    }
   ],
   "source": [
    "df3.shape"
   ]
  },
  {
   "cell_type": "code",
   "execution_count": 218,
   "metadata": {},
   "outputs": [
    {
     "data": {
      "text/plain": [
       "(6924, 95)"
      ]
     },
     "execution_count": 218,
     "metadata": {},
     "output_type": "execute_result"
    }
   ],
   "source": [
    "df1.shape"
   ]
  },
  {
   "cell_type": "code",
   "execution_count": 219,
   "metadata": {},
   "outputs": [
    {
     "data": {
      "text/plain": [
       "(6317, 96)"
      ]
     },
     "execution_count": 219,
     "metadata": {},
     "output_type": "execute_result"
    }
   ],
   "source": [
    "df2.shape"
   ]
  },
  {
   "cell_type": "code",
   "execution_count": 220,
   "metadata": {},
   "outputs": [
    {
     "data": {
      "text/html": [
       "<div>\n",
       "<style scoped>\n",
       "    .dataframe tbody tr th:only-of-type {\n",
       "        vertical-align: middle;\n",
       "    }\n",
       "\n",
       "    .dataframe tbody tr th {\n",
       "        vertical-align: top;\n",
       "    }\n",
       "\n",
       "    .dataframe thead th {\n",
       "        text-align: right;\n",
       "    }\n",
       "</style>\n",
       "<table border=\"1\" class=\"dataframe\">\n",
       "  <thead>\n",
       "    <tr style=\"text-align: right;\">\n",
       "      <th></th>\n",
       "      <th>HID</th>\n",
       "      <th>M_ID</th>\n",
       "      <th>type1</th>\n",
       "      <th>Month</th>\n",
       "      <th>q1</th>\n",
       "      <th>q2_a</th>\n",
       "      <th>q2_a_1</th>\n",
       "      <th>q2_a_2</th>\n",
       "      <th>q2_b</th>\n",
       "      <th>q2_b_1</th>\n",
       "      <th>...</th>\n",
       "      <th>q6_6_17</th>\n",
       "      <th>q6_6_18</th>\n",
       "      <th>q6_6_19</th>\n",
       "      <th>q6_6_20</th>\n",
       "      <th>q6_6_21</th>\n",
       "      <th>q6_7</th>\n",
       "      <th>q6_8</th>\n",
       "      <th>q6_9</th>\n",
       "      <th>q7_2</th>\n",
       "      <th>sido18</th>\n",
       "    </tr>\n",
       "  </thead>\n",
       "  <tbody>\n",
       "    <tr>\n",
       "      <th>0</th>\n",
       "      <td>10001</td>\n",
       "      <td>115439</td>\n",
       "      <td>1</td>\n",
       "      <td>8</td>\n",
       "      <td>2</td>\n",
       "      <td>2017</td>\n",
       "      <td>8</td>\n",
       "      <td>4</td>\n",
       "      <td>2017</td>\n",
       "      <td>8</td>\n",
       "      <td>...</td>\n",
       "      <td>NaN</td>\n",
       "      <td>NaN</td>\n",
       "      <td>NaN</td>\n",
       "      <td>NaN</td>\n",
       "      <td>NaN</td>\n",
       "      <td>4</td>\n",
       "      <td>4</td>\n",
       "      <td>4</td>\n",
       "      <td>100000.0</td>\n",
       "      <td>1</td>\n",
       "    </tr>\n",
       "    <tr>\n",
       "      <th>1</th>\n",
       "      <td>10001</td>\n",
       "      <td>115441</td>\n",
       "      <td>1</td>\n",
       "      <td>12</td>\n",
       "      <td>1</td>\n",
       "      <td>2017</td>\n",
       "      <td>12</td>\n",
       "      <td>23</td>\n",
       "      <td>2017</td>\n",
       "      <td>12</td>\n",
       "      <td>...</td>\n",
       "      <td>NaN</td>\n",
       "      <td>NaN</td>\n",
       "      <td>NaN</td>\n",
       "      <td>NaN</td>\n",
       "      <td>NaN</td>\n",
       "      <td>4</td>\n",
       "      <td>4</td>\n",
       "      <td>4</td>\n",
       "      <td>100000.0</td>\n",
       "      <td>1</td>\n",
       "    </tr>\n",
       "    <tr>\n",
       "      <th>2</th>\n",
       "      <td>10002</td>\n",
       "      <td>123587</td>\n",
       "      <td>1</td>\n",
       "      <td>10</td>\n",
       "      <td>2</td>\n",
       "      <td>2017</td>\n",
       "      <td>10</td>\n",
       "      <td>3</td>\n",
       "      <td>2017</td>\n",
       "      <td>10</td>\n",
       "      <td>...</td>\n",
       "      <td>NaN</td>\n",
       "      <td>NaN</td>\n",
       "      <td>NaN</td>\n",
       "      <td>NaN</td>\n",
       "      <td>NaN</td>\n",
       "      <td>4</td>\n",
       "      <td>4</td>\n",
       "      <td>4</td>\n",
       "      <td>600000.0</td>\n",
       "      <td>1</td>\n",
       "    </tr>\n",
       "    <tr>\n",
       "      <th>3</th>\n",
       "      <td>10003</td>\n",
       "      <td>110795</td>\n",
       "      <td>1</td>\n",
       "      <td>4</td>\n",
       "      <td>2</td>\n",
       "      <td>2017</td>\n",
       "      <td>4</td>\n",
       "      <td>8</td>\n",
       "      <td>2017</td>\n",
       "      <td>4</td>\n",
       "      <td>...</td>\n",
       "      <td>NaN</td>\n",
       "      <td>NaN</td>\n",
       "      <td>NaN</td>\n",
       "      <td>NaN</td>\n",
       "      <td>NaN</td>\n",
       "      <td>4</td>\n",
       "      <td>4</td>\n",
       "      <td>3</td>\n",
       "      <td>300000.0</td>\n",
       "      <td>1</td>\n",
       "    </tr>\n",
       "    <tr>\n",
       "      <th>4</th>\n",
       "      <td>10004</td>\n",
       "      <td>110798</td>\n",
       "      <td>1</td>\n",
       "      <td>4</td>\n",
       "      <td>2</td>\n",
       "      <td>2017</td>\n",
       "      <td>4</td>\n",
       "      <td>28</td>\n",
       "      <td>2017</td>\n",
       "      <td>4</td>\n",
       "      <td>...</td>\n",
       "      <td>NaN</td>\n",
       "      <td>NaN</td>\n",
       "      <td>NaN</td>\n",
       "      <td>NaN</td>\n",
       "      <td>NaN</td>\n",
       "      <td>4</td>\n",
       "      <td>4</td>\n",
       "      <td>4</td>\n",
       "      <td>1370000.0</td>\n",
       "      <td>1</td>\n",
       "    </tr>\n",
       "  </tbody>\n",
       "</table>\n",
       "<p>5 rows × 95 columns</p>\n",
       "</div>"
      ],
      "text/plain": [
       "     HID    M_ID  type1  Month  q1  q2_a  q2_a_1  q2_a_2  q2_b  q2_b_1  ...  \\\n",
       "0  10001  115439      1      8   2  2017       8       4  2017       8  ...   \n",
       "1  10001  115441      1     12   1  2017      12      23  2017      12  ...   \n",
       "2  10002  123587      1     10   2  2017      10       3  2017      10  ...   \n",
       "3  10003  110795      1      4   2  2017       4       8  2017       4  ...   \n",
       "4  10004  110798      1      4   2  2017       4      28  2017       4  ...   \n",
       "\n",
       "   q6_6_17  q6_6_18  q6_6_19  q6_6_20  q6_6_21  q6_7  q6_8  q6_9       q7_2  \\\n",
       "0      NaN      NaN      NaN      NaN      NaN     4     4     4   100000.0   \n",
       "1      NaN      NaN      NaN      NaN      NaN     4     4     4   100000.0   \n",
       "2      NaN      NaN      NaN      NaN      NaN     4     4     4   600000.0   \n",
       "3      NaN      NaN      NaN      NaN      NaN     4     4     3   300000.0   \n",
       "4      NaN      NaN      NaN      NaN      NaN     4     4     4  1370000.0   \n",
       "\n",
       "   sido18  \n",
       "0       1  \n",
       "1       1  \n",
       "2       1  \n",
       "3       1  \n",
       "4       1  \n",
       "\n",
       "[5 rows x 95 columns]"
      ]
     },
     "execution_count": 220,
     "metadata": {},
     "output_type": "execute_result"
    }
   ],
   "source": [
    "df1.head()"
   ]
  },
  {
   "cell_type": "code",
   "execution_count": 221,
   "metadata": {},
   "outputs": [
    {
     "data": {
      "text/html": [
       "<div>\n",
       "<style scoped>\n",
       "    .dataframe tbody tr th:only-of-type {\n",
       "        vertical-align: middle;\n",
       "    }\n",
       "\n",
       "    .dataframe tbody tr th {\n",
       "        vertical-align: top;\n",
       "    }\n",
       "\n",
       "    .dataframe thead th {\n",
       "        text-align: right;\n",
       "    }\n",
       "</style>\n",
       "<table border=\"1\" class=\"dataframe\">\n",
       "  <thead>\n",
       "    <tr style=\"text-align: right;\">\n",
       "      <th></th>\n",
       "      <th>Unnamed: 0</th>\n",
       "      <th>HID</th>\n",
       "      <th>type1</th>\n",
       "      <th>Month</th>\n",
       "      <th>M_ID</th>\n",
       "      <th>q1</th>\n",
       "      <th>q2_a</th>\n",
       "      <th>q2_a_1</th>\n",
       "      <th>q2_a_2</th>\n",
       "      <th>q2_b</th>\n",
       "      <th>...</th>\n",
       "      <th>q6_6_18</th>\n",
       "      <th>q6_6_19</th>\n",
       "      <th>q6_6_20</th>\n",
       "      <th>q6_6_21</th>\n",
       "      <th>q6_7</th>\n",
       "      <th>q6_8</th>\n",
       "      <th>q6_9</th>\n",
       "      <th>q7_2</th>\n",
       "      <th>sido18</th>\n",
       "      <th>q5_1</th>\n",
       "    </tr>\n",
       "  </thead>\n",
       "  <tbody>\n",
       "    <tr>\n",
       "      <th>0</th>\n",
       "      <td>0</td>\n",
       "      <td>10001</td>\n",
       "      <td>1</td>\n",
       "      <td>7.0</td>\n",
       "      <td>101372.0</td>\n",
       "      <td>2.0</td>\n",
       "      <td>2017.0</td>\n",
       "      <td>7.0</td>\n",
       "      <td>1.0</td>\n",
       "      <td>2017.0</td>\n",
       "      <td>...</td>\n",
       "      <td>NaN</td>\n",
       "      <td>NaN</td>\n",
       "      <td>NaN</td>\n",
       "      <td>NaN</td>\n",
       "      <td>4.0</td>\n",
       "      <td>4.0</td>\n",
       "      <td>4.0</td>\n",
       "      <td>1300000.0</td>\n",
       "      <td>1</td>\n",
       "      <td>6.0</td>\n",
       "    </tr>\n",
       "    <tr>\n",
       "      <th>1</th>\n",
       "      <td>1</td>\n",
       "      <td>10001</td>\n",
       "      <td>1</td>\n",
       "      <td>8.0</td>\n",
       "      <td>101365.0</td>\n",
       "      <td>1.0</td>\n",
       "      <td>2017.0</td>\n",
       "      <td>8.0</td>\n",
       "      <td>5.0</td>\n",
       "      <td>2017.0</td>\n",
       "      <td>...</td>\n",
       "      <td>NaN</td>\n",
       "      <td>NaN</td>\n",
       "      <td>NaN</td>\n",
       "      <td>NaN</td>\n",
       "      <td>4.0</td>\n",
       "      <td>4.0</td>\n",
       "      <td>4.0</td>\n",
       "      <td>120000.0</td>\n",
       "      <td>1</td>\n",
       "      <td>7.0</td>\n",
       "    </tr>\n",
       "    <tr>\n",
       "      <th>2</th>\n",
       "      <td>2</td>\n",
       "      <td>10001</td>\n",
       "      <td>1</td>\n",
       "      <td>8.0</td>\n",
       "      <td>115434.0</td>\n",
       "      <td>1.0</td>\n",
       "      <td>2017.0</td>\n",
       "      <td>8.0</td>\n",
       "      <td>12.0</td>\n",
       "      <td>2017.0</td>\n",
       "      <td>...</td>\n",
       "      <td>NaN</td>\n",
       "      <td>NaN</td>\n",
       "      <td>NaN</td>\n",
       "      <td>NaN</td>\n",
       "      <td>4.0</td>\n",
       "      <td>4.0</td>\n",
       "      <td>4.0</td>\n",
       "      <td>100000.0</td>\n",
       "      <td>1</td>\n",
       "      <td>5.0</td>\n",
       "    </tr>\n",
       "    <tr>\n",
       "      <th>3</th>\n",
       "      <td>3</td>\n",
       "      <td>10001</td>\n",
       "      <td>1</td>\n",
       "      <td>10.0</td>\n",
       "      <td>115437.0</td>\n",
       "      <td>1.0</td>\n",
       "      <td>2017.0</td>\n",
       "      <td>10.0</td>\n",
       "      <td>5.0</td>\n",
       "      <td>2017.0</td>\n",
       "      <td>...</td>\n",
       "      <td>NaN</td>\n",
       "      <td>NaN</td>\n",
       "      <td>NaN</td>\n",
       "      <td>NaN</td>\n",
       "      <td>4.0</td>\n",
       "      <td>4.0</td>\n",
       "      <td>4.0</td>\n",
       "      <td>120000.0</td>\n",
       "      <td>1</td>\n",
       "      <td>6.0</td>\n",
       "    </tr>\n",
       "    <tr>\n",
       "      <th>4</th>\n",
       "      <td>4</td>\n",
       "      <td>10002</td>\n",
       "      <td>1</td>\n",
       "      <td>5.0</td>\n",
       "      <td>110564.0</td>\n",
       "      <td>1.0</td>\n",
       "      <td>2017.0</td>\n",
       "      <td>5.0</td>\n",
       "      <td>1.0</td>\n",
       "      <td>2017.0</td>\n",
       "      <td>...</td>\n",
       "      <td>NaN</td>\n",
       "      <td>NaN</td>\n",
       "      <td>NaN</td>\n",
       "      <td>NaN</td>\n",
       "      <td>3.0</td>\n",
       "      <td>3.0</td>\n",
       "      <td>3.0</td>\n",
       "      <td>40000.0</td>\n",
       "      <td>1</td>\n",
       "      <td>4.0</td>\n",
       "    </tr>\n",
       "  </tbody>\n",
       "</table>\n",
       "<p>5 rows × 96 columns</p>\n",
       "</div>"
      ],
      "text/plain": [
       "   Unnamed: 0    HID  type1  Month      M_ID   q1    q2_a  q2_a_1  q2_a_2  \\\n",
       "0           0  10001      1    7.0  101372.0  2.0  2017.0     7.0     1.0   \n",
       "1           1  10001      1    8.0  101365.0  1.0  2017.0     8.0     5.0   \n",
       "2           2  10001      1    8.0  115434.0  1.0  2017.0     8.0    12.0   \n",
       "3           3  10001      1   10.0  115437.0  1.0  2017.0    10.0     5.0   \n",
       "4           4  10002      1    5.0  110564.0  1.0  2017.0     5.0     1.0   \n",
       "\n",
       "     q2_b  ...  q6_6_18  q6_6_19  q6_6_20  q6_6_21  q6_7  q6_8  q6_9  \\\n",
       "0  2017.0  ...      NaN      NaN      NaN      NaN   4.0   4.0   4.0   \n",
       "1  2017.0  ...      NaN      NaN      NaN      NaN   4.0   4.0   4.0   \n",
       "2  2017.0  ...      NaN      NaN      NaN      NaN   4.0   4.0   4.0   \n",
       "3  2017.0  ...      NaN      NaN      NaN      NaN   4.0   4.0   4.0   \n",
       "4  2017.0  ...      NaN      NaN      NaN      NaN   3.0   3.0   3.0   \n",
       "\n",
       "        q7_2  sido18  q5_1  \n",
       "0  1300000.0       1   6.0  \n",
       "1   120000.0       1   7.0  \n",
       "2   100000.0       1   5.0  \n",
       "3   120000.0       1   6.0  \n",
       "4    40000.0       1   4.0  \n",
       "\n",
       "[5 rows x 96 columns]"
      ]
     },
     "execution_count": 221,
     "metadata": {},
     "output_type": "execute_result"
    }
   ],
   "source": [
    "df2.head()"
   ]
  },
  {
   "cell_type": "code",
   "execution_count": 222,
   "metadata": {},
   "outputs": [],
   "source": [
    "df2 = df2.iloc[:,1:]"
   ]
  },
  {
   "cell_type": "code",
   "execution_count": 223,
   "metadata": {},
   "outputs": [],
   "source": [
    "df2 = df2.rename(columns={'type1_x' :'type1', 'Month_x': 'Month'})"
   ]
  },
  {
   "cell_type": "code",
   "execution_count": 1,
   "metadata": {},
   "outputs": [
    {
     "ename": "NameError",
     "evalue": "name 'df2' is not defined",
     "output_type": "error",
     "traceback": [
      "\u001b[1;31m---------------------------------------------------------------------------\u001b[0m",
      "\u001b[1;31mNameError\u001b[0m                                 Traceback (most recent call last)",
      "\u001b[1;32m<ipython-input-1-2068723f1203>\u001b[0m in \u001b[0;36m<module>\u001b[1;34m\u001b[0m\n\u001b[1;32m----> 1\u001b[1;33m \u001b[0mdf2\u001b[0m\u001b[1;33m\u001b[0m\u001b[1;33m\u001b[0m\u001b[0m\n\u001b[0m",
      "\u001b[1;31mNameError\u001b[0m: name 'df2' is not defined"
     ]
    }
   ],
   "source": [
    "df2\n"
   ]
  },
  {
   "cell_type": "code",
   "execution_count": 225,
   "metadata": {},
   "outputs": [
    {
     "data": {
      "text/plain": [
       "((6317, 95), (6924, 95))"
      ]
     },
     "execution_count": 225,
     "metadata": {},
     "output_type": "execute_result"
    }
   ],
   "source": [
    "df2.shape, df1.shape"
   ]
  },
  {
   "cell_type": "code",
   "execution_count": 226,
   "metadata": {},
   "outputs": [
    {
     "name": "stderr",
     "output_type": "stream",
     "text": [
      "C:\\Users\\a\\Anaconda3\\lib\\site-packages\\ipykernel_launcher.py:1: FutureWarning: Sorting because non-concatenation axis is not aligned. A future version\n",
      "of pandas will change to not sort by default.\n",
      "\n",
      "To accept the future behavior, pass 'sort=False'.\n",
      "\n",
      "To retain the current behavior and silence the warning, pass 'sort=True'.\n",
      "\n",
      "  \"\"\"Entry point for launching an IPython kernel.\n"
     ]
    }
   ],
   "source": [
    "df3 = pd.concat([df1,df2], ignore_index=True)"
   ]
  },
  {
   "cell_type": "code",
   "execution_count": 227,
   "metadata": {},
   "outputs": [
    {
     "data": {
      "text/plain": [
       "(13241, 95)"
      ]
     },
     "execution_count": 227,
     "metadata": {},
     "output_type": "execute_result"
    }
   ],
   "source": [
    "df3.shape"
   ]
  },
  {
   "cell_type": "code",
   "execution_count": 228,
   "metadata": {},
   "outputs": [
    {
     "data": {
      "text/plain": [
       "12189"
      ]
     },
     "execution_count": 228,
     "metadata": {},
     "output_type": "execute_result"
    }
   ],
   "source": [
    "df3['q9_1'].isnull().sum()"
   ]
  },
  {
   "cell_type": "code",
   "execution_count": 229,
   "metadata": {},
   "outputs": [],
   "source": [
    "df3.drop('q9_1',axis=1, inplace=True)"
   ]
  },
  {
   "cell_type": "code",
   "execution_count": 230,
   "metadata": {},
   "outputs": [
    {
     "data": {
      "text/plain": [
       "8742"
      ]
     },
     "execution_count": 230,
     "metadata": {},
     "output_type": "execute_result"
    }
   ],
   "source": [
    "df3['q9_2'].isnull().sum()"
   ]
  },
  {
   "cell_type": "code",
   "execution_count": 231,
   "metadata": {},
   "outputs": [],
   "source": [
    "df3.drop('q9_2',axis=1,inplace=True)"
   ]
  },
  {
   "cell_type": "code",
   "execution_count": 232,
   "metadata": {},
   "outputs": [
    {
     "data": {
      "text/html": [
       "<div>\n",
       "<style scoped>\n",
       "    .dataframe tbody tr th:only-of-type {\n",
       "        vertical-align: middle;\n",
       "    }\n",
       "\n",
       "    .dataframe tbody tr th {\n",
       "        vertical-align: top;\n",
       "    }\n",
       "\n",
       "    .dataframe thead th {\n",
       "        text-align: right;\n",
       "    }\n",
       "</style>\n",
       "<table border=\"1\" class=\"dataframe\">\n",
       "  <thead>\n",
       "    <tr style=\"text-align: right;\">\n",
       "      <th></th>\n",
       "      <th>HID</th>\n",
       "      <th>M_ID</th>\n",
       "      <th>Month</th>\n",
       "      <th>q1</th>\n",
       "      <th>q10_1</th>\n",
       "      <th>q10_10</th>\n",
       "      <th>q10_11</th>\n",
       "      <th>q10_12</th>\n",
       "      <th>q10_2</th>\n",
       "      <th>q10_3</th>\n",
       "      <th>...</th>\n",
       "      <th>q6_6_9</th>\n",
       "      <th>q6_7</th>\n",
       "      <th>q6_8</th>\n",
       "      <th>q6_9</th>\n",
       "      <th>q7</th>\n",
       "      <th>q7_2</th>\n",
       "      <th>q8</th>\n",
       "      <th>q9</th>\n",
       "      <th>sido18</th>\n",
       "      <th>type1</th>\n",
       "    </tr>\n",
       "  </thead>\n",
       "  <tbody>\n",
       "    <tr>\n",
       "      <th>0</th>\n",
       "      <td>10001</td>\n",
       "      <td>115439.0</td>\n",
       "      <td>8.0</td>\n",
       "      <td>2.0</td>\n",
       "      <td>4.0</td>\n",
       "      <td>4.0</td>\n",
       "      <td>4.0</td>\n",
       "      <td>4.0</td>\n",
       "      <td>4.0</td>\n",
       "      <td>4.0</td>\n",
       "      <td>...</td>\n",
       "      <td>NaN</td>\n",
       "      <td>4.0</td>\n",
       "      <td>4.0</td>\n",
       "      <td>4.0</td>\n",
       "      <td>100000.0</td>\n",
       "      <td>100000.0</td>\n",
       "      <td>2.0</td>\n",
       "      <td>2.0</td>\n",
       "      <td>1</td>\n",
       "      <td>1</td>\n",
       "    </tr>\n",
       "    <tr>\n",
       "      <th>1</th>\n",
       "      <td>10001</td>\n",
       "      <td>115441.0</td>\n",
       "      <td>12.0</td>\n",
       "      <td>1.0</td>\n",
       "      <td>4.0</td>\n",
       "      <td>4.0</td>\n",
       "      <td>4.0</td>\n",
       "      <td>4.0</td>\n",
       "      <td>4.0</td>\n",
       "      <td>4.0</td>\n",
       "      <td>...</td>\n",
       "      <td>NaN</td>\n",
       "      <td>4.0</td>\n",
       "      <td>4.0</td>\n",
       "      <td>4.0</td>\n",
       "      <td>100000.0</td>\n",
       "      <td>100000.0</td>\n",
       "      <td>2.0</td>\n",
       "      <td>2.0</td>\n",
       "      <td>1</td>\n",
       "      <td>1</td>\n",
       "    </tr>\n",
       "    <tr>\n",
       "      <th>2</th>\n",
       "      <td>10002</td>\n",
       "      <td>123587.0</td>\n",
       "      <td>10.0</td>\n",
       "      <td>2.0</td>\n",
       "      <td>4.0</td>\n",
       "      <td>9.0</td>\n",
       "      <td>2.0</td>\n",
       "      <td>2.0</td>\n",
       "      <td>4.0</td>\n",
       "      <td>3.0</td>\n",
       "      <td>...</td>\n",
       "      <td>NaN</td>\n",
       "      <td>4.0</td>\n",
       "      <td>4.0</td>\n",
       "      <td>4.0</td>\n",
       "      <td>600000.0</td>\n",
       "      <td>600000.0</td>\n",
       "      <td>2.0</td>\n",
       "      <td>2.0</td>\n",
       "      <td>1</td>\n",
       "      <td>1</td>\n",
       "    </tr>\n",
       "    <tr>\n",
       "      <th>3</th>\n",
       "      <td>10003</td>\n",
       "      <td>110795.0</td>\n",
       "      <td>4.0</td>\n",
       "      <td>2.0</td>\n",
       "      <td>4.0</td>\n",
       "      <td>4.0</td>\n",
       "      <td>4.0</td>\n",
       "      <td>4.0</td>\n",
       "      <td>4.0</td>\n",
       "      <td>4.0</td>\n",
       "      <td>...</td>\n",
       "      <td>NaN</td>\n",
       "      <td>4.0</td>\n",
       "      <td>4.0</td>\n",
       "      <td>3.0</td>\n",
       "      <td>300000.0</td>\n",
       "      <td>300000.0</td>\n",
       "      <td>2.0</td>\n",
       "      <td>2.0</td>\n",
       "      <td>1</td>\n",
       "      <td>1</td>\n",
       "    </tr>\n",
       "    <tr>\n",
       "      <th>4</th>\n",
       "      <td>10004</td>\n",
       "      <td>110798.0</td>\n",
       "      <td>4.0</td>\n",
       "      <td>2.0</td>\n",
       "      <td>4.0</td>\n",
       "      <td>9.0</td>\n",
       "      <td>4.0</td>\n",
       "      <td>3.0</td>\n",
       "      <td>4.0</td>\n",
       "      <td>4.0</td>\n",
       "      <td>...</td>\n",
       "      <td>NaN</td>\n",
       "      <td>4.0</td>\n",
       "      <td>4.0</td>\n",
       "      <td>4.0</td>\n",
       "      <td>1370000.0</td>\n",
       "      <td>1370000.0</td>\n",
       "      <td>2.0</td>\n",
       "      <td>2.0</td>\n",
       "      <td>1</td>\n",
       "      <td>1</td>\n",
       "    </tr>\n",
       "  </tbody>\n",
       "</table>\n",
       "<p>5 rows × 93 columns</p>\n",
       "</div>"
      ],
      "text/plain": [
       "     HID      M_ID  Month   q1  q10_1  q10_10  q10_11  q10_12  q10_2  q10_3  \\\n",
       "0  10001  115439.0    8.0  2.0    4.0     4.0     4.0     4.0    4.0    4.0   \n",
       "1  10001  115441.0   12.0  1.0    4.0     4.0     4.0     4.0    4.0    4.0   \n",
       "2  10002  123587.0   10.0  2.0    4.0     9.0     2.0     2.0    4.0    3.0   \n",
       "3  10003  110795.0    4.0  2.0    4.0     4.0     4.0     4.0    4.0    4.0   \n",
       "4  10004  110798.0    4.0  2.0    4.0     9.0     4.0     3.0    4.0    4.0   \n",
       "\n",
       "   ...  q6_6_9  q6_7  q6_8  q6_9         q7       q7_2   q8   q9  sido18  \\\n",
       "0  ...     NaN   4.0   4.0   4.0   100000.0   100000.0  2.0  2.0       1   \n",
       "1  ...     NaN   4.0   4.0   4.0   100000.0   100000.0  2.0  2.0       1   \n",
       "2  ...     NaN   4.0   4.0   4.0   600000.0   600000.0  2.0  2.0       1   \n",
       "3  ...     NaN   4.0   4.0   3.0   300000.0   300000.0  2.0  2.0       1   \n",
       "4  ...     NaN   4.0   4.0   4.0  1370000.0  1370000.0  2.0  2.0       1   \n",
       "\n",
       "   type1  \n",
       "0      1  \n",
       "1      1  \n",
       "2      1  \n",
       "3      1  \n",
       "4      1  \n",
       "\n",
       "[5 rows x 93 columns]"
      ]
     },
     "execution_count": 232,
     "metadata": {},
     "output_type": "execute_result"
    }
   ],
   "source": [
    "df3.head()"
   ]
  },
  {
   "cell_type": "code",
   "execution_count": 233,
   "metadata": {},
   "outputs": [
    {
     "data": {
      "text/plain": [
       "12793"
      ]
     },
     "execution_count": 233,
     "metadata": {},
     "output_type": "execute_result"
    }
   ],
   "source": [
    "df3['q6_6_21'].isnull().sum()"
   ]
  },
  {
   "cell_type": "code",
   "execution_count": 234,
   "metadata": {
    "scrolled": true
   },
   "outputs": [
    {
     "data": {
      "text/html": [
       "<div>\n",
       "<style scoped>\n",
       "    .dataframe tbody tr th:only-of-type {\n",
       "        vertical-align: middle;\n",
       "    }\n",
       "\n",
       "    .dataframe tbody tr th {\n",
       "        vertical-align: top;\n",
       "    }\n",
       "\n",
       "    .dataframe thead th {\n",
       "        text-align: right;\n",
       "    }\n",
       "</style>\n",
       "<table border=\"1\" class=\"dataframe\">\n",
       "  <thead>\n",
       "    <tr style=\"text-align: right;\">\n",
       "      <th></th>\n",
       "      <th>HID</th>\n",
       "      <th>M_ID</th>\n",
       "      <th>Month</th>\n",
       "      <th>q1</th>\n",
       "      <th>q10_1</th>\n",
       "      <th>q10_10</th>\n",
       "      <th>q10_11</th>\n",
       "      <th>q10_12</th>\n",
       "      <th>q10_2</th>\n",
       "      <th>q10_3</th>\n",
       "      <th>...</th>\n",
       "      <th>q6_6_9</th>\n",
       "      <th>q6_7</th>\n",
       "      <th>q6_8</th>\n",
       "      <th>q6_9</th>\n",
       "      <th>q7</th>\n",
       "      <th>q7_2</th>\n",
       "      <th>q8</th>\n",
       "      <th>q9</th>\n",
       "      <th>sido18</th>\n",
       "      <th>type1</th>\n",
       "    </tr>\n",
       "  </thead>\n",
       "  <tbody>\n",
       "    <tr>\n",
       "      <th>0</th>\n",
       "      <td>10001</td>\n",
       "      <td>115439.0</td>\n",
       "      <td>8.0</td>\n",
       "      <td>2.0</td>\n",
       "      <td>4.0</td>\n",
       "      <td>4.0</td>\n",
       "      <td>4.0</td>\n",
       "      <td>4.0</td>\n",
       "      <td>4.0</td>\n",
       "      <td>4.0</td>\n",
       "      <td>...</td>\n",
       "      <td>NaN</td>\n",
       "      <td>4.0</td>\n",
       "      <td>4.0</td>\n",
       "      <td>4.0</td>\n",
       "      <td>100000.0</td>\n",
       "      <td>100000.0</td>\n",
       "      <td>2.0</td>\n",
       "      <td>2.0</td>\n",
       "      <td>1</td>\n",
       "      <td>1</td>\n",
       "    </tr>\n",
       "    <tr>\n",
       "      <th>1</th>\n",
       "      <td>10001</td>\n",
       "      <td>115441.0</td>\n",
       "      <td>12.0</td>\n",
       "      <td>1.0</td>\n",
       "      <td>4.0</td>\n",
       "      <td>4.0</td>\n",
       "      <td>4.0</td>\n",
       "      <td>4.0</td>\n",
       "      <td>4.0</td>\n",
       "      <td>4.0</td>\n",
       "      <td>...</td>\n",
       "      <td>NaN</td>\n",
       "      <td>4.0</td>\n",
       "      <td>4.0</td>\n",
       "      <td>4.0</td>\n",
       "      <td>100000.0</td>\n",
       "      <td>100000.0</td>\n",
       "      <td>2.0</td>\n",
       "      <td>2.0</td>\n",
       "      <td>1</td>\n",
       "      <td>1</td>\n",
       "    </tr>\n",
       "    <tr>\n",
       "      <th>2</th>\n",
       "      <td>10002</td>\n",
       "      <td>123587.0</td>\n",
       "      <td>10.0</td>\n",
       "      <td>2.0</td>\n",
       "      <td>4.0</td>\n",
       "      <td>9.0</td>\n",
       "      <td>2.0</td>\n",
       "      <td>2.0</td>\n",
       "      <td>4.0</td>\n",
       "      <td>3.0</td>\n",
       "      <td>...</td>\n",
       "      <td>NaN</td>\n",
       "      <td>4.0</td>\n",
       "      <td>4.0</td>\n",
       "      <td>4.0</td>\n",
       "      <td>600000.0</td>\n",
       "      <td>600000.0</td>\n",
       "      <td>2.0</td>\n",
       "      <td>2.0</td>\n",
       "      <td>1</td>\n",
       "      <td>1</td>\n",
       "    </tr>\n",
       "    <tr>\n",
       "      <th>3</th>\n",
       "      <td>10003</td>\n",
       "      <td>110795.0</td>\n",
       "      <td>4.0</td>\n",
       "      <td>2.0</td>\n",
       "      <td>4.0</td>\n",
       "      <td>4.0</td>\n",
       "      <td>4.0</td>\n",
       "      <td>4.0</td>\n",
       "      <td>4.0</td>\n",
       "      <td>4.0</td>\n",
       "      <td>...</td>\n",
       "      <td>NaN</td>\n",
       "      <td>4.0</td>\n",
       "      <td>4.0</td>\n",
       "      <td>3.0</td>\n",
       "      <td>300000.0</td>\n",
       "      <td>300000.0</td>\n",
       "      <td>2.0</td>\n",
       "      <td>2.0</td>\n",
       "      <td>1</td>\n",
       "      <td>1</td>\n",
       "    </tr>\n",
       "    <tr>\n",
       "      <th>4</th>\n",
       "      <td>10004</td>\n",
       "      <td>110798.0</td>\n",
       "      <td>4.0</td>\n",
       "      <td>2.0</td>\n",
       "      <td>4.0</td>\n",
       "      <td>9.0</td>\n",
       "      <td>4.0</td>\n",
       "      <td>3.0</td>\n",
       "      <td>4.0</td>\n",
       "      <td>4.0</td>\n",
       "      <td>...</td>\n",
       "      <td>NaN</td>\n",
       "      <td>4.0</td>\n",
       "      <td>4.0</td>\n",
       "      <td>4.0</td>\n",
       "      <td>1370000.0</td>\n",
       "      <td>1370000.0</td>\n",
       "      <td>2.0</td>\n",
       "      <td>2.0</td>\n",
       "      <td>1</td>\n",
       "      <td>1</td>\n",
       "    </tr>\n",
       "  </tbody>\n",
       "</table>\n",
       "<p>5 rows × 93 columns</p>\n",
       "</div>"
      ],
      "text/plain": [
       "     HID      M_ID  Month   q1  q10_1  q10_10  q10_11  q10_12  q10_2  q10_3  \\\n",
       "0  10001  115439.0    8.0  2.0    4.0     4.0     4.0     4.0    4.0    4.0   \n",
       "1  10001  115441.0   12.0  1.0    4.0     4.0     4.0     4.0    4.0    4.0   \n",
       "2  10002  123587.0   10.0  2.0    4.0     9.0     2.0     2.0    4.0    3.0   \n",
       "3  10003  110795.0    4.0  2.0    4.0     4.0     4.0     4.0    4.0    4.0   \n",
       "4  10004  110798.0    4.0  2.0    4.0     9.0     4.0     3.0    4.0    4.0   \n",
       "\n",
       "   ...  q6_6_9  q6_7  q6_8  q6_9         q7       q7_2   q8   q9  sido18  \\\n",
       "0  ...     NaN   4.0   4.0   4.0   100000.0   100000.0  2.0  2.0       1   \n",
       "1  ...     NaN   4.0   4.0   4.0   100000.0   100000.0  2.0  2.0       1   \n",
       "2  ...     NaN   4.0   4.0   4.0   600000.0   600000.0  2.0  2.0       1   \n",
       "3  ...     NaN   4.0   4.0   3.0   300000.0   300000.0  2.0  2.0       1   \n",
       "4  ...     NaN   4.0   4.0   4.0  1370000.0  1370000.0  2.0  2.0       1   \n",
       "\n",
       "   type1  \n",
       "0      1  \n",
       "1      1  \n",
       "2      1  \n",
       "3      1  \n",
       "4      1  \n",
       "\n",
       "[5 rows x 93 columns]"
      ]
     },
     "execution_count": 234,
     "metadata": {},
     "output_type": "execute_result"
    }
   ],
   "source": [
    "df3.head()"
   ]
  },
  {
   "cell_type": "code",
   "execution_count": 235,
   "metadata": {},
   "outputs": [],
   "source": [
    "df3['q6_6_2'] = df3['q6_6_2'].replace(2,1)"
   ]
  },
  {
   "cell_type": "code",
   "execution_count": 236,
   "metadata": {},
   "outputs": [],
   "source": [
    "df3['q6_6_3'] = df3['q6_6_3'].replace(3,1)\n",
    "df3['q6_6_4'] = df3['q6_6_4'].replace(4,1)\n",
    "df3['q6_6_5'] = df3['q6_6_5'].replace(5,1)\n",
    "df3['q6_6_6'] = df3['q6_6_6'].replace(6,1)\n",
    "df3['q6_6_7'] = df3['q6_6_7'].replace(7,1)\n",
    "df3['q6_6_8'] = df3['q6_6_8'].replace(8,1)\n",
    "df3['q6_6_9'] = df3['q6_6_9'].replace(9,1)\n",
    "df3['q6_6_10'] = df3['q6_6_10'].replace(10,1)\n",
    "df3['q6_6_11'] = df3['q6_6_11'].replace(11,1)\n",
    "df3['q6_6_12'] = df3['q6_6_12'].replace(12,1)\n",
    "df3['q6_6_13'] = df3['q6_6_13'].replace(13,1)\n",
    "df3['q6_6_14'] = df3['q6_6_14'].replace(14,1)\n",
    "df3['q6_6_15'] = df3['q6_6_15'].replace(15,1)\n",
    "df3['q6_6_16'] = df3['q6_6_16'].replace(16,1)\n",
    "df3['q6_6_17'] = df3['q6_6_17'].replace(17,1)\n",
    "df3['q6_6_18'] = df3['q6_6_18'].replace(18,1)\n",
    "df3['q6_6_19'] = df3['q6_6_19'].replace(19,1)\n",
    "df3['q6_6_20'] = df3['q6_6_20'].replace(20,1)\n",
    "df3['q6_6_21'] = df3['q6_6_21'].replace(21,1)\n"
   ]
  },
  {
   "cell_type": "code",
   "execution_count": 237,
   "metadata": {},
   "outputs": [],
   "source": [
    "df3['q6_6_2'] = df3['q6_6_2'].fillna(0)"
   ]
  },
  {
   "cell_type": "code",
   "execution_count": 238,
   "metadata": {},
   "outputs": [],
   "source": [
    "df3['q6_6_3'] = df3['q6_6_3'].fillna(0)\n",
    "df3['q6_6_4'] = df3['q6_6_4'].fillna(0)\n",
    "df3['q6_6_5'] = df3['q6_6_5'].fillna(0)\n",
    "df3['q6_6_6'] = df3['q6_6_6'].fillna(0)\n",
    "df3['q6_6_7'] = df3['q6_6_7'].fillna(0)\n",
    "df3['q6_6_8'] = df3['q6_6_8'].fillna(0)\n",
    "df3['q6_6_9'] = df3['q6_6_9'].fillna(0)\n",
    "df3['q6_6_10'] = df3['q6_6_10'].fillna(0)\n",
    "df3['q6_6_11'] = df3['q6_6_11'].fillna(0)\n",
    "df3['q6_6_12'] = df3['q6_6_12'].fillna(0)\n",
    "df3['q6_6_13'] = df3['q6_6_13'].fillna(0)\n",
    "df3['q6_6_14'] = df3['q6_6_14'].fillna(0)\n",
    "df3['q6_6_15'] = df3['q6_6_15'].fillna(0)\n",
    "df3['q6_6_16'] = df3['q6_6_16'].fillna(0)\n",
    "df3['q6_6_17'] = df3['q6_6_17'].fillna(0)\n",
    "df3['q6_6_18'] = df3['q6_6_18'].fillna(0)\n",
    "df3['q6_6_19'] = df3['q6_6_19'].fillna(0)\n",
    "df3['q6_6_20'] = df3['q6_6_20'].fillna(0)\n",
    "df3['q6_6_21'] = df3['q6_6_21'].fillna(0)"
   ]
  },
  {
   "cell_type": "code",
   "execution_count": 239,
   "metadata": {
    "scrolled": true
   },
   "outputs": [
    {
     "data": {
      "text/html": [
       "<div>\n",
       "<style scoped>\n",
       "    .dataframe tbody tr th:only-of-type {\n",
       "        vertical-align: middle;\n",
       "    }\n",
       "\n",
       "    .dataframe tbody tr th {\n",
       "        vertical-align: top;\n",
       "    }\n",
       "\n",
       "    .dataframe thead th {\n",
       "        text-align: right;\n",
       "    }\n",
       "</style>\n",
       "<table border=\"1\" class=\"dataframe\">\n",
       "  <thead>\n",
       "    <tr style=\"text-align: right;\">\n",
       "      <th></th>\n",
       "      <th>HID</th>\n",
       "      <th>M_ID</th>\n",
       "      <th>Month</th>\n",
       "      <th>q1</th>\n",
       "      <th>q10_1</th>\n",
       "      <th>q10_10</th>\n",
       "      <th>q10_11</th>\n",
       "      <th>q10_12</th>\n",
       "      <th>q10_2</th>\n",
       "      <th>q10_3</th>\n",
       "      <th>...</th>\n",
       "      <th>q6_6_9</th>\n",
       "      <th>q6_7</th>\n",
       "      <th>q6_8</th>\n",
       "      <th>q6_9</th>\n",
       "      <th>q7</th>\n",
       "      <th>q7_2</th>\n",
       "      <th>q8</th>\n",
       "      <th>q9</th>\n",
       "      <th>sido18</th>\n",
       "      <th>type1</th>\n",
       "    </tr>\n",
       "  </thead>\n",
       "  <tbody>\n",
       "    <tr>\n",
       "      <th>0</th>\n",
       "      <td>10001</td>\n",
       "      <td>115439.0</td>\n",
       "      <td>8.0</td>\n",
       "      <td>2.0</td>\n",
       "      <td>4.0</td>\n",
       "      <td>4.0</td>\n",
       "      <td>4.0</td>\n",
       "      <td>4.0</td>\n",
       "      <td>4.0</td>\n",
       "      <td>4.0</td>\n",
       "      <td>...</td>\n",
       "      <td>0.0</td>\n",
       "      <td>4.0</td>\n",
       "      <td>4.0</td>\n",
       "      <td>4.0</td>\n",
       "      <td>100000.0</td>\n",
       "      <td>100000.0</td>\n",
       "      <td>2.0</td>\n",
       "      <td>2.0</td>\n",
       "      <td>1</td>\n",
       "      <td>1</td>\n",
       "    </tr>\n",
       "    <tr>\n",
       "      <th>1</th>\n",
       "      <td>10001</td>\n",
       "      <td>115441.0</td>\n",
       "      <td>12.0</td>\n",
       "      <td>1.0</td>\n",
       "      <td>4.0</td>\n",
       "      <td>4.0</td>\n",
       "      <td>4.0</td>\n",
       "      <td>4.0</td>\n",
       "      <td>4.0</td>\n",
       "      <td>4.0</td>\n",
       "      <td>...</td>\n",
       "      <td>0.0</td>\n",
       "      <td>4.0</td>\n",
       "      <td>4.0</td>\n",
       "      <td>4.0</td>\n",
       "      <td>100000.0</td>\n",
       "      <td>100000.0</td>\n",
       "      <td>2.0</td>\n",
       "      <td>2.0</td>\n",
       "      <td>1</td>\n",
       "      <td>1</td>\n",
       "    </tr>\n",
       "    <tr>\n",
       "      <th>2</th>\n",
       "      <td>10002</td>\n",
       "      <td>123587.0</td>\n",
       "      <td>10.0</td>\n",
       "      <td>2.0</td>\n",
       "      <td>4.0</td>\n",
       "      <td>9.0</td>\n",
       "      <td>2.0</td>\n",
       "      <td>2.0</td>\n",
       "      <td>4.0</td>\n",
       "      <td>3.0</td>\n",
       "      <td>...</td>\n",
       "      <td>0.0</td>\n",
       "      <td>4.0</td>\n",
       "      <td>4.0</td>\n",
       "      <td>4.0</td>\n",
       "      <td>600000.0</td>\n",
       "      <td>600000.0</td>\n",
       "      <td>2.0</td>\n",
       "      <td>2.0</td>\n",
       "      <td>1</td>\n",
       "      <td>1</td>\n",
       "    </tr>\n",
       "    <tr>\n",
       "      <th>3</th>\n",
       "      <td>10003</td>\n",
       "      <td>110795.0</td>\n",
       "      <td>4.0</td>\n",
       "      <td>2.0</td>\n",
       "      <td>4.0</td>\n",
       "      <td>4.0</td>\n",
       "      <td>4.0</td>\n",
       "      <td>4.0</td>\n",
       "      <td>4.0</td>\n",
       "      <td>4.0</td>\n",
       "      <td>...</td>\n",
       "      <td>0.0</td>\n",
       "      <td>4.0</td>\n",
       "      <td>4.0</td>\n",
       "      <td>3.0</td>\n",
       "      <td>300000.0</td>\n",
       "      <td>300000.0</td>\n",
       "      <td>2.0</td>\n",
       "      <td>2.0</td>\n",
       "      <td>1</td>\n",
       "      <td>1</td>\n",
       "    </tr>\n",
       "    <tr>\n",
       "      <th>4</th>\n",
       "      <td>10004</td>\n",
       "      <td>110798.0</td>\n",
       "      <td>4.0</td>\n",
       "      <td>2.0</td>\n",
       "      <td>4.0</td>\n",
       "      <td>9.0</td>\n",
       "      <td>4.0</td>\n",
       "      <td>3.0</td>\n",
       "      <td>4.0</td>\n",
       "      <td>4.0</td>\n",
       "      <td>...</td>\n",
       "      <td>0.0</td>\n",
       "      <td>4.0</td>\n",
       "      <td>4.0</td>\n",
       "      <td>4.0</td>\n",
       "      <td>1370000.0</td>\n",
       "      <td>1370000.0</td>\n",
       "      <td>2.0</td>\n",
       "      <td>2.0</td>\n",
       "      <td>1</td>\n",
       "      <td>1</td>\n",
       "    </tr>\n",
       "  </tbody>\n",
       "</table>\n",
       "<p>5 rows × 93 columns</p>\n",
       "</div>"
      ],
      "text/plain": [
       "     HID      M_ID  Month   q1  q10_1  q10_10  q10_11  q10_12  q10_2  q10_3  \\\n",
       "0  10001  115439.0    8.0  2.0    4.0     4.0     4.0     4.0    4.0    4.0   \n",
       "1  10001  115441.0   12.0  1.0    4.0     4.0     4.0     4.0    4.0    4.0   \n",
       "2  10002  123587.0   10.0  2.0    4.0     9.0     2.0     2.0    4.0    3.0   \n",
       "3  10003  110795.0    4.0  2.0    4.0     4.0     4.0     4.0    4.0    4.0   \n",
       "4  10004  110798.0    4.0  2.0    4.0     9.0     4.0     3.0    4.0    4.0   \n",
       "\n",
       "   ...  q6_6_9  q6_7  q6_8  q6_9         q7       q7_2   q8   q9  sido18  \\\n",
       "0  ...     0.0   4.0   4.0   4.0   100000.0   100000.0  2.0  2.0       1   \n",
       "1  ...     0.0   4.0   4.0   4.0   100000.0   100000.0  2.0  2.0       1   \n",
       "2  ...     0.0   4.0   4.0   4.0   600000.0   600000.0  2.0  2.0       1   \n",
       "3  ...     0.0   4.0   4.0   3.0   300000.0   300000.0  2.0  2.0       1   \n",
       "4  ...     0.0   4.0   4.0   4.0  1370000.0  1370000.0  2.0  2.0       1   \n",
       "\n",
       "   type1  \n",
       "0      1  \n",
       "1      1  \n",
       "2      1  \n",
       "3      1  \n",
       "4      1  \n",
       "\n",
       "[5 rows x 93 columns]"
      ]
     },
     "execution_count": 239,
     "metadata": {},
     "output_type": "execute_result"
    }
   ],
   "source": [
    "df3.head()"
   ]
  },
  {
   "cell_type": "code",
   "execution_count": 240,
   "metadata": {},
   "outputs": [
    {
     "data": {
      "text/plain": [
       "12295"
      ]
     },
     "execution_count": 240,
     "metadata": {},
     "output_type": "execute_result"
    }
   ],
   "source": [
    "df3['q6_5_2a'].isnull().sum()"
   ]
  },
  {
   "cell_type": "code",
   "execution_count": 241,
   "metadata": {},
   "outputs": [],
   "source": [
    "df3.drop(['q6_5_1a', 'q6_5_2a', 'q6_5_3a', 'q6_5_4a' ,'q6_5_5a', 'q6_5_6a' ,'q6_5_7a','q6_5_8a', 'q6_5_9a', 'q6_5_10a','q6_5_11a','q6_5_12a', 'q6_5_13a'], axis=1, inplace= True)"
   ]
  },
  {
   "cell_type": "code",
   "execution_count": 242,
   "metadata": {},
   "outputs": [
    {
     "data": {
      "text/plain": [
       "(13241, 80)"
      ]
     },
     "execution_count": 242,
     "metadata": {},
     "output_type": "execute_result"
    }
   ],
   "source": [
    "df3.shape"
   ]
  },
  {
   "cell_type": "code",
   "execution_count": 243,
   "metadata": {},
   "outputs": [],
   "source": [
    "df3.drop(['HID', 'M_ID'],axis=1, inplace=True)"
   ]
  },
  {
   "cell_type": "code",
   "execution_count": 244,
   "metadata": {},
   "outputs": [
    {
     "data": {
      "text/plain": [
       "Index(['Month', 'q1', 'q10_1', 'q10_10', 'q10_11', 'q10_12', 'q10_2', 'q10_3',\n",
       "       'q10_4', 'q10_5', 'q10_6', 'q10_7', 'q10_8', 'q10_9', 'q2_1_1',\n",
       "       'q2_1_2', 'q2_1_3', 'q2_1_4', 'q2_1_5', 'q2_a', 'q2_a_1', 'q2_a_2',\n",
       "       'q2_b', 'q2_b_1', 'q2_b_2', 'q2_c_1', 'q2_c_2', 'q3', 'q4_1_a', 'q4_a',\n",
       "       'q5_1', 'q6_1', 'q6_2', 'q6_3_a', 'q6_4', 'q6_5_1', 'q6_5_10',\n",
       "       'q6_5_11', 'q6_5_12', 'q6_5_13', 'q6_5_2', 'q6_5_3', 'q6_5_4', 'q6_5_5',\n",
       "       'q6_5_6', 'q6_5_7', 'q6_5_8', 'q6_5_9', 'q6_6_1', 'q6_6_10', 'q6_6_11',\n",
       "       'q6_6_12', 'q6_6_13', 'q6_6_14', 'q6_6_15', 'q6_6_16', 'q6_6_17',\n",
       "       'q6_6_18', 'q6_6_19', 'q6_6_2', 'q6_6_20', 'q6_6_21', 'q6_6_3',\n",
       "       'q6_6_4', 'q6_6_5', 'q6_6_6', 'q6_6_7', 'q6_6_8', 'q6_6_9', 'q6_7',\n",
       "       'q6_8', 'q6_9', 'q7', 'q7_2', 'q8', 'q9', 'sido18', 'type1'],\n",
       "      dtype='object')"
      ]
     },
     "execution_count": 244,
     "metadata": {},
     "output_type": "execute_result"
    }
   ],
   "source": [
    "df3.columns"
   ]
  },
  {
   "cell_type": "code",
   "execution_count": 245,
   "metadata": {},
   "outputs": [],
   "source": [
    "#q6_7,8,9 순서대로 전반적 만족도, 재방문의향, 타인추천도"
   ]
  },
  {
   "cell_type": "code",
   "execution_count": 246,
   "metadata": {},
   "outputs": [],
   "source": [
    "from sklearn.model_selection import train_test_split\n",
    "import numpy as np"
   ]
  },
  {
   "cell_type": "code",
   "execution_count": 247,
   "metadata": {},
   "outputs": [
    {
     "data": {
      "text/plain": [
       "4.0    8892\n",
       "5.0    2102\n",
       "3.0    1257\n",
       "2.0      36\n",
       "1.0       9\n",
       "Name: q6_7, dtype: int64"
      ]
     },
     "execution_count": 247,
     "metadata": {},
     "output_type": "execute_result"
    }
   ],
   "source": [
    "df3['q6_7'].value_counts()"
   ]
  },
  {
   "cell_type": "code",
   "execution_count": 248,
   "metadata": {},
   "outputs": [],
   "source": [
    "df3['q6_7'] = df3['q6_7'].replace(1,0)\n",
    "df3['q6_7'] = df3['q6_7'].replace(2,0)\n",
    "df3['q6_7'] =df3['q6_7'].replace(3,0)\n",
    "df3['q6_7'] =df3['q6_7'].replace(4,0)\n",
    "df3['q6_7'] =df3['q6_7'].replace(5,1)"
   ]
  },
  {
   "cell_type": "code",
   "execution_count": 249,
   "metadata": {},
   "outputs": [
    {
     "data": {
      "text/plain": [
       "0.0    10194\n",
       "1.0     2102\n",
       "Name: q6_7, dtype: int64"
      ]
     },
     "execution_count": 249,
     "metadata": {},
     "output_type": "execute_result"
    }
   ],
   "source": [
    "df3['q6_7'].value_counts()"
   ]
  },
  {
   "cell_type": "code",
   "execution_count": 261,
   "metadata": {},
   "outputs": [],
   "source": [
    "labels = np.array(df3['q6_7'])\n",
    "features = df3.drop(['q6_7', 'q6_8', 'q6_9'], axis=1)\n",
    "feature_list = list(features.columns)\n",
    "features = np.array(features)"
   ]
  },
  {
   "cell_type": "code",
   "execution_count": 251,
   "metadata": {},
   "outputs": [],
   "source": [
    "train_features, test_features, train_labels, test_labels = train_test_split(features, labels, test_size = 0.25, random_state = 42)"
   ]
  },
  {
   "cell_type": "code",
   "execution_count": 252,
   "metadata": {},
   "outputs": [
    {
     "name": "stdout",
     "output_type": "stream",
     "text": [
      "Training Features Shape: (9930, 75)\n",
      "Training Labels Shape: (9930,)\n",
      "Testing Features Shape: (3311, 75)\n",
      "Testing Labels Shape: (3311,)\n"
     ]
    }
   ],
   "source": [
    "print('Training Features Shape:', train_features.shape)\n",
    "print('Training Labels Shape:', train_labels.shape)\n",
    "print('Testing Features Shape:', test_features.shape)\n",
    "print('Testing Labels Shape:', test_labels.shape)"
   ]
  },
  {
   "cell_type": "code",
   "execution_count": 253,
   "metadata": {},
   "outputs": [],
   "source": [
    "df3 = df3.fillna(0)"
   ]
  },
  {
   "cell_type": "code",
   "execution_count": 254,
   "metadata": {
    "collapsed": true
   },
   "outputs": [
    {
     "data": {
      "text/plain": [
       "Month      0\n",
       "q1         0\n",
       "q10_1      0\n",
       "q10_10     0\n",
       "q10_11     0\n",
       "q10_12     0\n",
       "q10_2      0\n",
       "q10_3      0\n",
       "q10_4      0\n",
       "q10_5      0\n",
       "q10_6      0\n",
       "q10_7      0\n",
       "q10_8      0\n",
       "q10_9      0\n",
       "q2_1_1     0\n",
       "q2_1_2     0\n",
       "q2_1_3     0\n",
       "q2_1_4     0\n",
       "q2_1_5     0\n",
       "q2_a       0\n",
       "q2_a_1     0\n",
       "q2_a_2     0\n",
       "q2_b       0\n",
       "q2_b_1     0\n",
       "q2_b_2     0\n",
       "q2_c_1     0\n",
       "q2_c_2     0\n",
       "q3         0\n",
       "q4_1_a     0\n",
       "q4_a       0\n",
       "          ..\n",
       "q6_6_1     0\n",
       "q6_6_10    0\n",
       "q6_6_11    0\n",
       "q6_6_12    0\n",
       "q6_6_13    0\n",
       "q6_6_14    0\n",
       "q6_6_15    0\n",
       "q6_6_16    0\n",
       "q6_6_17    0\n",
       "q6_6_18    0\n",
       "q6_6_19    0\n",
       "q6_6_2     0\n",
       "q6_6_20    0\n",
       "q6_6_21    0\n",
       "q6_6_3     0\n",
       "q6_6_4     0\n",
       "q6_6_5     0\n",
       "q6_6_6     0\n",
       "q6_6_7     0\n",
       "q6_6_8     0\n",
       "q6_6_9     0\n",
       "q6_7       0\n",
       "q6_8       0\n",
       "q6_9       0\n",
       "q7         0\n",
       "q7_2       0\n",
       "q8         0\n",
       "q9         0\n",
       "sido18     0\n",
       "type1      0\n",
       "Length: 78, dtype: int64"
      ]
     },
     "execution_count": 254,
     "metadata": {},
     "output_type": "execute_result"
    }
   ],
   "source": [
    "df3.isnull().sum()"
   ]
  },
  {
   "cell_type": "code",
   "execution_count": 255,
   "metadata": {
    "collapsed": true
   },
   "outputs": [
    {
     "data": {
      "text/html": [
       "<div>\n",
       "<style scoped>\n",
       "    .dataframe tbody tr th:only-of-type {\n",
       "        vertical-align: middle;\n",
       "    }\n",
       "\n",
       "    .dataframe tbody tr th {\n",
       "        vertical-align: top;\n",
       "    }\n",
       "\n",
       "    .dataframe thead th {\n",
       "        text-align: right;\n",
       "    }\n",
       "</style>\n",
       "<table border=\"1\" class=\"dataframe\">\n",
       "  <thead>\n",
       "    <tr style=\"text-align: right;\">\n",
       "      <th></th>\n",
       "      <th>Month</th>\n",
       "      <th>q1</th>\n",
       "      <th>q10_1</th>\n",
       "      <th>q10_10</th>\n",
       "      <th>q10_11</th>\n",
       "      <th>q10_12</th>\n",
       "      <th>q10_2</th>\n",
       "      <th>q10_3</th>\n",
       "      <th>q10_4</th>\n",
       "      <th>q10_5</th>\n",
       "      <th>...</th>\n",
       "      <th>q6_6_9</th>\n",
       "      <th>q6_7</th>\n",
       "      <th>q6_8</th>\n",
       "      <th>q6_9</th>\n",
       "      <th>q7</th>\n",
       "      <th>q7_2</th>\n",
       "      <th>q8</th>\n",
       "      <th>q9</th>\n",
       "      <th>sido18</th>\n",
       "      <th>type1</th>\n",
       "    </tr>\n",
       "  </thead>\n",
       "  <tbody>\n",
       "    <tr>\n",
       "      <th>0</th>\n",
       "      <td>8.0</td>\n",
       "      <td>2.0</td>\n",
       "      <td>4.0</td>\n",
       "      <td>4.0</td>\n",
       "      <td>4.0</td>\n",
       "      <td>4.0</td>\n",
       "      <td>4.0</td>\n",
       "      <td>4.0</td>\n",
       "      <td>4.0</td>\n",
       "      <td>4.0</td>\n",
       "      <td>...</td>\n",
       "      <td>0.0</td>\n",
       "      <td>0.0</td>\n",
       "      <td>4.0</td>\n",
       "      <td>4.0</td>\n",
       "      <td>100000.0</td>\n",
       "      <td>100000.0</td>\n",
       "      <td>2.0</td>\n",
       "      <td>2.0</td>\n",
       "      <td>1</td>\n",
       "      <td>1</td>\n",
       "    </tr>\n",
       "    <tr>\n",
       "      <th>1</th>\n",
       "      <td>12.0</td>\n",
       "      <td>1.0</td>\n",
       "      <td>4.0</td>\n",
       "      <td>4.0</td>\n",
       "      <td>4.0</td>\n",
       "      <td>4.0</td>\n",
       "      <td>4.0</td>\n",
       "      <td>4.0</td>\n",
       "      <td>9.0</td>\n",
       "      <td>4.0</td>\n",
       "      <td>...</td>\n",
       "      <td>0.0</td>\n",
       "      <td>0.0</td>\n",
       "      <td>4.0</td>\n",
       "      <td>4.0</td>\n",
       "      <td>100000.0</td>\n",
       "      <td>100000.0</td>\n",
       "      <td>2.0</td>\n",
       "      <td>2.0</td>\n",
       "      <td>1</td>\n",
       "      <td>1</td>\n",
       "    </tr>\n",
       "    <tr>\n",
       "      <th>2</th>\n",
       "      <td>10.0</td>\n",
       "      <td>2.0</td>\n",
       "      <td>4.0</td>\n",
       "      <td>9.0</td>\n",
       "      <td>2.0</td>\n",
       "      <td>2.0</td>\n",
       "      <td>4.0</td>\n",
       "      <td>3.0</td>\n",
       "      <td>3.0</td>\n",
       "      <td>4.0</td>\n",
       "      <td>...</td>\n",
       "      <td>0.0</td>\n",
       "      <td>0.0</td>\n",
       "      <td>4.0</td>\n",
       "      <td>4.0</td>\n",
       "      <td>600000.0</td>\n",
       "      <td>600000.0</td>\n",
       "      <td>2.0</td>\n",
       "      <td>2.0</td>\n",
       "      <td>1</td>\n",
       "      <td>1</td>\n",
       "    </tr>\n",
       "    <tr>\n",
       "      <th>3</th>\n",
       "      <td>4.0</td>\n",
       "      <td>2.0</td>\n",
       "      <td>4.0</td>\n",
       "      <td>4.0</td>\n",
       "      <td>4.0</td>\n",
       "      <td>4.0</td>\n",
       "      <td>4.0</td>\n",
       "      <td>4.0</td>\n",
       "      <td>4.0</td>\n",
       "      <td>4.0</td>\n",
       "      <td>...</td>\n",
       "      <td>0.0</td>\n",
       "      <td>0.0</td>\n",
       "      <td>4.0</td>\n",
       "      <td>3.0</td>\n",
       "      <td>300000.0</td>\n",
       "      <td>300000.0</td>\n",
       "      <td>2.0</td>\n",
       "      <td>2.0</td>\n",
       "      <td>1</td>\n",
       "      <td>1</td>\n",
       "    </tr>\n",
       "    <tr>\n",
       "      <th>4</th>\n",
       "      <td>4.0</td>\n",
       "      <td>2.0</td>\n",
       "      <td>4.0</td>\n",
       "      <td>9.0</td>\n",
       "      <td>4.0</td>\n",
       "      <td>3.0</td>\n",
       "      <td>4.0</td>\n",
       "      <td>4.0</td>\n",
       "      <td>4.0</td>\n",
       "      <td>4.0</td>\n",
       "      <td>...</td>\n",
       "      <td>0.0</td>\n",
       "      <td>0.0</td>\n",
       "      <td>4.0</td>\n",
       "      <td>4.0</td>\n",
       "      <td>1370000.0</td>\n",
       "      <td>1370000.0</td>\n",
       "      <td>2.0</td>\n",
       "      <td>2.0</td>\n",
       "      <td>1</td>\n",
       "      <td>1</td>\n",
       "    </tr>\n",
       "    <tr>\n",
       "      <th>5</th>\n",
       "      <td>10.0</td>\n",
       "      <td>2.0</td>\n",
       "      <td>4.0</td>\n",
       "      <td>9.0</td>\n",
       "      <td>4.0</td>\n",
       "      <td>4.0</td>\n",
       "      <td>4.0</td>\n",
       "      <td>4.0</td>\n",
       "      <td>4.0</td>\n",
       "      <td>4.0</td>\n",
       "      <td>...</td>\n",
       "      <td>0.0</td>\n",
       "      <td>0.0</td>\n",
       "      <td>4.0</td>\n",
       "      <td>4.0</td>\n",
       "      <td>120000.0</td>\n",
       "      <td>120000.0</td>\n",
       "      <td>2.0</td>\n",
       "      <td>2.0</td>\n",
       "      <td>1</td>\n",
       "      <td>1</td>\n",
       "    </tr>\n",
       "    <tr>\n",
       "      <th>6</th>\n",
       "      <td>7.0</td>\n",
       "      <td>2.0</td>\n",
       "      <td>4.0</td>\n",
       "      <td>3.0</td>\n",
       "      <td>4.0</td>\n",
       "      <td>4.0</td>\n",
       "      <td>4.0</td>\n",
       "      <td>4.0</td>\n",
       "      <td>5.0</td>\n",
       "      <td>4.0</td>\n",
       "      <td>...</td>\n",
       "      <td>0.0</td>\n",
       "      <td>0.0</td>\n",
       "      <td>4.0</td>\n",
       "      <td>4.0</td>\n",
       "      <td>80000.0</td>\n",
       "      <td>80000.0</td>\n",
       "      <td>2.0</td>\n",
       "      <td>2.0</td>\n",
       "      <td>1</td>\n",
       "      <td>1</td>\n",
       "    </tr>\n",
       "    <tr>\n",
       "      <th>7</th>\n",
       "      <td>7.0</td>\n",
       "      <td>2.0</td>\n",
       "      <td>4.0</td>\n",
       "      <td>3.0</td>\n",
       "      <td>4.0</td>\n",
       "      <td>4.0</td>\n",
       "      <td>4.0</td>\n",
       "      <td>4.0</td>\n",
       "      <td>4.0</td>\n",
       "      <td>4.0</td>\n",
       "      <td>...</td>\n",
       "      <td>0.0</td>\n",
       "      <td>0.0</td>\n",
       "      <td>4.0</td>\n",
       "      <td>4.0</td>\n",
       "      <td>70000.0</td>\n",
       "      <td>70000.0</td>\n",
       "      <td>2.0</td>\n",
       "      <td>2.0</td>\n",
       "      <td>1</td>\n",
       "      <td>1</td>\n",
       "    </tr>\n",
       "    <tr>\n",
       "      <th>8</th>\n",
       "      <td>5.0</td>\n",
       "      <td>1.0</td>\n",
       "      <td>4.0</td>\n",
       "      <td>4.0</td>\n",
       "      <td>4.0</td>\n",
       "      <td>4.0</td>\n",
       "      <td>4.0</td>\n",
       "      <td>4.0</td>\n",
       "      <td>9.0</td>\n",
       "      <td>4.0</td>\n",
       "      <td>...</td>\n",
       "      <td>0.0</td>\n",
       "      <td>0.0</td>\n",
       "      <td>4.0</td>\n",
       "      <td>4.0</td>\n",
       "      <td>25000.0</td>\n",
       "      <td>25000.0</td>\n",
       "      <td>2.0</td>\n",
       "      <td>2.0</td>\n",
       "      <td>1</td>\n",
       "      <td>1</td>\n",
       "    </tr>\n",
       "    <tr>\n",
       "      <th>9</th>\n",
       "      <td>10.0</td>\n",
       "      <td>2.0</td>\n",
       "      <td>4.0</td>\n",
       "      <td>9.0</td>\n",
       "      <td>4.0</td>\n",
       "      <td>4.0</td>\n",
       "      <td>4.0</td>\n",
       "      <td>4.0</td>\n",
       "      <td>4.0</td>\n",
       "      <td>4.0</td>\n",
       "      <td>...</td>\n",
       "      <td>0.0</td>\n",
       "      <td>0.0</td>\n",
       "      <td>4.0</td>\n",
       "      <td>4.0</td>\n",
       "      <td>300000.0</td>\n",
       "      <td>240000.0</td>\n",
       "      <td>2.0</td>\n",
       "      <td>2.0</td>\n",
       "      <td>1</td>\n",
       "      <td>1</td>\n",
       "    </tr>\n",
       "  </tbody>\n",
       "</table>\n",
       "<p>10 rows × 78 columns</p>\n",
       "</div>"
      ],
      "text/plain": [
       "   Month   q1  q10_1  q10_10  q10_11  q10_12  q10_2  q10_3  q10_4  q10_5  ...  \\\n",
       "0    8.0  2.0    4.0     4.0     4.0     4.0    4.0    4.0    4.0    4.0  ...   \n",
       "1   12.0  1.0    4.0     4.0     4.0     4.0    4.0    4.0    9.0    4.0  ...   \n",
       "2   10.0  2.0    4.0     9.0     2.0     2.0    4.0    3.0    3.0    4.0  ...   \n",
       "3    4.0  2.0    4.0     4.0     4.0     4.0    4.0    4.0    4.0    4.0  ...   \n",
       "4    4.0  2.0    4.0     9.0     4.0     3.0    4.0    4.0    4.0    4.0  ...   \n",
       "5   10.0  2.0    4.0     9.0     4.0     4.0    4.0    4.0    4.0    4.0  ...   \n",
       "6    7.0  2.0    4.0     3.0     4.0     4.0    4.0    4.0    5.0    4.0  ...   \n",
       "7    7.0  2.0    4.0     3.0     4.0     4.0    4.0    4.0    4.0    4.0  ...   \n",
       "8    5.0  1.0    4.0     4.0     4.0     4.0    4.0    4.0    9.0    4.0  ...   \n",
       "9   10.0  2.0    4.0     9.0     4.0     4.0    4.0    4.0    4.0    4.0  ...   \n",
       "\n",
       "   q6_6_9  q6_7  q6_8  q6_9         q7       q7_2   q8   q9  sido18  type1  \n",
       "0     0.0   0.0   4.0   4.0   100000.0   100000.0  2.0  2.0       1      1  \n",
       "1     0.0   0.0   4.0   4.0   100000.0   100000.0  2.0  2.0       1      1  \n",
       "2     0.0   0.0   4.0   4.0   600000.0   600000.0  2.0  2.0       1      1  \n",
       "3     0.0   0.0   4.0   3.0   300000.0   300000.0  2.0  2.0       1      1  \n",
       "4     0.0   0.0   4.0   4.0  1370000.0  1370000.0  2.0  2.0       1      1  \n",
       "5     0.0   0.0   4.0   4.0   120000.0   120000.0  2.0  2.0       1      1  \n",
       "6     0.0   0.0   4.0   4.0    80000.0    80000.0  2.0  2.0       1      1  \n",
       "7     0.0   0.0   4.0   4.0    70000.0    70000.0  2.0  2.0       1      1  \n",
       "8     0.0   0.0   4.0   4.0    25000.0    25000.0  2.0  2.0       1      1  \n",
       "9     0.0   0.0   4.0   4.0   300000.0   240000.0  2.0  2.0       1      1  \n",
       "\n",
       "[10 rows x 78 columns]"
      ]
     },
     "execution_count": 255,
     "metadata": {},
     "output_type": "execute_result"
    }
   ],
   "source": [
    "df3.head(10)"
   ]
  },
  {
   "cell_type": "code",
   "execution_count": 256,
   "metadata": {
    "collapsed": true
   },
   "outputs": [
    {
     "data": {
      "text/plain": [
       "Month      0\n",
       "q1         0\n",
       "q10_1      0\n",
       "q10_10     0\n",
       "q10_11     0\n",
       "q10_12     0\n",
       "q10_2      0\n",
       "q10_3      0\n",
       "q10_4      0\n",
       "q10_5      0\n",
       "q10_6      0\n",
       "q10_7      0\n",
       "q10_8      0\n",
       "q10_9      0\n",
       "q2_1_1     0\n",
       "q2_1_2     0\n",
       "q2_1_3     0\n",
       "q2_1_4     0\n",
       "q2_1_5     0\n",
       "q2_a       0\n",
       "q2_a_1     0\n",
       "q2_a_2     0\n",
       "q2_b       0\n",
       "q2_b_1     0\n",
       "q2_b_2     0\n",
       "q2_c_1     0\n",
       "q2_c_2     0\n",
       "q3         0\n",
       "q4_1_a     0\n",
       "q4_a       0\n",
       "          ..\n",
       "q6_6_1     0\n",
       "q6_6_10    0\n",
       "q6_6_11    0\n",
       "q6_6_12    0\n",
       "q6_6_13    0\n",
       "q6_6_14    0\n",
       "q6_6_15    0\n",
       "q6_6_16    0\n",
       "q6_6_17    0\n",
       "q6_6_18    0\n",
       "q6_6_19    0\n",
       "q6_6_2     0\n",
       "q6_6_20    0\n",
       "q6_6_21    0\n",
       "q6_6_3     0\n",
       "q6_6_4     0\n",
       "q6_6_5     0\n",
       "q6_6_6     0\n",
       "q6_6_7     0\n",
       "q6_6_8     0\n",
       "q6_6_9     0\n",
       "q6_7       0\n",
       "q6_8       0\n",
       "q6_9       0\n",
       "q7         0\n",
       "q7_2       0\n",
       "q8         0\n",
       "q9         0\n",
       "sido18     0\n",
       "type1      0\n",
       "Length: 78, dtype: int64"
      ]
     },
     "execution_count": 256,
     "metadata": {},
     "output_type": "execute_result"
    }
   ],
   "source": [
    "df3.isnull().sum()"
   ]
  },
  {
   "cell_type": "code",
   "execution_count": 260,
   "metadata": {},
   "outputs": [],
   "source": [
    "df3 = df3.astype('int')"
   ]
  },
  {
   "cell_type": "code",
   "execution_count": 262,
   "metadata": {},
   "outputs": [],
   "source": [
    "train_features, test_features, train_labels, test_labels = train_test_split(features, labels, test_size = 0.3, random_state = 42)"
   ]
  },
  {
   "cell_type": "code",
   "execution_count": 263,
   "metadata": {},
   "outputs": [
    {
     "data": {
      "text/plain": [
       "RandomForestClassifier(bootstrap=True, class_weight=None, criterion='gini',\n",
       "                       max_depth=None, max_features='auto', max_leaf_nodes=None,\n",
       "                       min_impurity_decrease=0.0, min_impurity_split=None,\n",
       "                       min_samples_leaf=1, min_samples_split=2,\n",
       "                       min_weight_fraction_leaf=0.0, n_estimators=1000,\n",
       "                       n_jobs=None, oob_score=False, random_state=42, verbose=0,\n",
       "                       warm_start=False)"
      ]
     },
     "execution_count": 263,
     "metadata": {},
     "output_type": "execute_result"
    }
   ],
   "source": [
    "from sklearn.ensemble import RandomForestClassifier\n",
    "rf = RandomForestClassifier(n_estimators = 1000, random_state = 42)\n",
    "rf.fit(train_features, train_labels)"
   ]
  },
  {
   "cell_type": "code",
   "execution_count": 264,
   "metadata": {},
   "outputs": [
    {
     "name": "stdout",
     "output_type": "stream",
     "text": [
      "Mean Absolute Error: 0.12\n"
     ]
    }
   ],
   "source": [
    "predictions = rf.predict(test_features)\n",
    "errors = abs(predictions - test_labels)\n",
    "print('Mean Absolute Error:', round(np.mean(errors), 2))\n"
   ]
  },
  {
   "cell_type": "code",
   "execution_count": 265,
   "metadata": {},
   "outputs": [],
   "source": [
    "from sklearn.metrics import accuracy_score\n",
    "from sklearn.metrics import classification_report"
   ]
  },
  {
   "cell_type": "code",
   "execution_count": 266,
   "metadata": {},
   "outputs": [
    {
     "data": {
      "text/plain": [
       "array([0, 0, 0, ..., 1, 0, 0])"
      ]
     },
     "execution_count": 266,
     "metadata": {},
     "output_type": "execute_result"
    }
   ],
   "source": [
    "train_labels"
   ]
  },
  {
   "cell_type": "raw",
   "metadata": {},
   "source": []
  },
  {
   "cell_type": "code",
   "execution_count": null,
   "metadata": {},
   "outputs": [],
   "source": []
  },
  {
   "cell_type": "code",
   "execution_count": null,
   "metadata": {},
   "outputs": [],
   "source": [
    "test_labels = test_labels.astype('int')"
   ]
  },
  {
   "cell_type": "code",
   "execution_count": null,
   "metadata": {},
   "outputs": [],
   "source": []
  },
  {
   "cell_type": "code",
   "execution_count": 267,
   "metadata": {},
   "outputs": [
    {
     "name": "stdout",
     "output_type": "stream",
     "text": [
      "accuracy is:  88.19531839919456 %\n"
     ]
    }
   ],
   "source": [
    "print('accuracy is: ', 100 * accuracy_score(test_labels, predictions ),'%')"
   ]
  },
  {
   "cell_type": "code",
   "execution_count": 268,
   "metadata": {},
   "outputs": [],
   "source": [
    "importances = list(rf.feature_importances_)"
   ]
  },
  {
   "cell_type": "code",
   "execution_count": 269,
   "metadata": {},
   "outputs": [],
   "source": [
    "feature_importances = [(feature, round(importance, 2)) for feature, importance in zip(feature_list, importances)]"
   ]
  },
  {
   "cell_type": "code",
   "execution_count": 270,
   "metadata": {},
   "outputs": [],
   "source": [
    "feature_importances = sorted(feature_importances, key = lambda x: x[1], reverse = True)"
   ]
  },
  {
   "cell_type": "code",
   "execution_count": 271,
   "metadata": {
    "collapsed": true
   },
   "outputs": [
    {
     "name": "stdout",
     "output_type": "stream",
     "text": [
      "Variable: q10_1                Importance: 0.08\n",
      "Variable: q10_3                Importance: 0.04\n",
      "Variable: q2_a_2               Importance: 0.04\n",
      "Variable: q2_b_2               Importance: 0.04\n",
      "Variable: q5_1                 Importance: 0.04\n",
      "Variable: q6_1                 Importance: 0.04\n",
      "Variable: q7                   Importance: 0.04\n",
      "Variable: q7_2                 Importance: 0.04\n",
      "Variable: sido18               Importance: 0.04\n",
      "Variable: Month                Importance: 0.03\n",
      "Variable: q10_12               Importance: 0.03\n",
      "Variable: q10_2                Importance: 0.03\n",
      "Variable: q10_5                Importance: 0.03\n",
      "Variable: q10_7                Importance: 0.03\n",
      "Variable: q10_8                Importance: 0.03\n",
      "Variable: q10_9                Importance: 0.03\n",
      "Variable: q2_a_1               Importance: 0.03\n",
      "Variable: q2_b_1               Importance: 0.03\n",
      "Variable: q6_3_a               Importance: 0.03\n",
      "Variable: q10_10               Importance: 0.02\n",
      "Variable: q10_11               Importance: 0.02\n",
      "Variable: q10_6                Importance: 0.02\n",
      "Variable: q4_a                 Importance: 0.02\n",
      "Variable: q6_4                 Importance: 0.02\n",
      "Variable: q10_4                Importance: 0.01\n",
      "Variable: q2_1_1               Importance: 0.01\n",
      "Variable: q2_1_2               Importance: 0.01\n",
      "Variable: q2_c_1               Importance: 0.01\n",
      "Variable: q2_c_2               Importance: 0.01\n",
      "Variable: q4_1_a               Importance: 0.01\n",
      "Variable: q6_2                 Importance: 0.01\n",
      "Variable: q6_5_6               Importance: 0.01\n",
      "Variable: q6_6_1               Importance: 0.01\n",
      "Variable: q6_6_11              Importance: 0.01\n",
      "Variable: q6_6_2               Importance: 0.01\n",
      "Variable: q6_6_3               Importance: 0.01\n",
      "Variable: q6_6_4               Importance: 0.01\n",
      "Variable: q6_6_5               Importance: 0.01\n",
      "Variable: q6_6_6               Importance: 0.01\n",
      "Variable: q6_6_9               Importance: 0.01\n",
      "Variable: q8                   Importance: 0.01\n",
      "Variable: q9                   Importance: 0.01\n",
      "Variable: q1                   Importance: 0.0\n",
      "Variable: q2_1_3               Importance: 0.0\n",
      "Variable: q2_1_4               Importance: 0.0\n",
      "Variable: q2_1_5               Importance: 0.0\n",
      "Variable: q2_a                 Importance: 0.0\n",
      "Variable: q2_b                 Importance: 0.0\n",
      "Variable: q3                   Importance: 0.0\n",
      "Variable: q6_5_1               Importance: 0.0\n",
      "Variable: q6_5_10              Importance: 0.0\n",
      "Variable: q6_5_11              Importance: 0.0\n",
      "Variable: q6_5_12              Importance: 0.0\n",
      "Variable: q6_5_13              Importance: 0.0\n",
      "Variable: q6_5_2               Importance: 0.0\n",
      "Variable: q6_5_3               Importance: 0.0\n",
      "Variable: q6_5_4               Importance: 0.0\n",
      "Variable: q6_5_5               Importance: 0.0\n",
      "Variable: q6_5_7               Importance: 0.0\n",
      "Variable: q6_5_8               Importance: 0.0\n",
      "Variable: q6_5_9               Importance: 0.0\n",
      "Variable: q6_6_10              Importance: 0.0\n",
      "Variable: q6_6_12              Importance: 0.0\n",
      "Variable: q6_6_13              Importance: 0.0\n",
      "Variable: q6_6_14              Importance: 0.0\n",
      "Variable: q6_6_15              Importance: 0.0\n",
      "Variable: q6_6_16              Importance: 0.0\n",
      "Variable: q6_6_17              Importance: 0.0\n",
      "Variable: q6_6_18              Importance: 0.0\n",
      "Variable: q6_6_19              Importance: 0.0\n",
      "Variable: q6_6_20              Importance: 0.0\n",
      "Variable: q6_6_21              Importance: 0.0\n",
      "Variable: q6_6_7               Importance: 0.0\n",
      "Variable: q6_6_8               Importance: 0.0\n",
      "Variable: type1                Importance: 0.0\n"
     ]
    }
   ],
   "source": [
    "[print('Variable: {:20} Importance: {}'.format(*pair)) for pair in feature_importances];"
   ]
  },
  {
   "cell_type": "code",
   "execution_count": 272,
   "metadata": {},
   "outputs": [
    {
     "data": {
      "text/plain": [
       "Text(0.5, 1.0, 'Variable Importances')"
      ]
     },
     "execution_count": 272,
     "metadata": {},
     "output_type": "execute_result"
    },
    {
     "data": {
      "image/png": "[encoded data removed]",
      "text/plain": [
       "<Figure size 1224x720 with 1 Axes>"
      ]
     },
     "metadata": {},
     "output_type": "display_data"
    }
   ],
   "source": [
    "import matplotlib.pyplot as plt\n",
    "plt.figure(figsize=(17,10))\n",
    "plt.style.use('fivethirtyeight')\n",
    "x_values = list(range(len(importances)))\n",
    "plt.bar(x_values, importances, orientation = 'vertical')\n",
    "plt.xticks(x_values, feature_list, rotation='vertical')\n",
    "plt.ylabel('Importance'); plt.xlabel('Variable'); plt.title('Variable Importances')"
   ]
  },
  {
   "cell_type": "code",
   "execution_count": 273,
   "metadata": {},
   "outputs": [],
   "source": [
    "############# 밑에 있는 columns들을 빼고 나서 다시 randomforest ##############\n",
    "df3.drop(['q2_a_2', 'q2_b_2', 'sido18', 'Month'],axis=1, inplace = True)"
   ]
  },
  {
   "cell_type": "code",
   "execution_count": 274,
   "metadata": {},
   "outputs": [],
   "source": [
    "df3.drop(['q2_a_1', 'q2_b_1'], axis=1, inplace = True)"
   ]
  },
  {
   "cell_type": "code",
   "execution_count": 275,
   "metadata": {},
   "outputs": [],
   "source": [
    "labels = np.array(df3['q6_7'])\n",
    "features = df3.drop(['q6_7', 'q6_8', 'q6_9'], axis=1)\n",
    "feature_list = list(features.columns)\n",
    "features = np.array(features)"
   ]
  },
  {
   "cell_type": "code",
   "execution_count": 276,
   "metadata": {},
   "outputs": [],
   "source": [
    "train_features, test_features, train_labels, test_labels = train_test_split(features, labels, test_size = 0.3, random_state = 42)"
   ]
  },
  {
   "cell_type": "code",
   "execution_count": 277,
   "metadata": {},
   "outputs": [
    {
     "data": {
      "text/plain": [
       "RandomForestClassifier(bootstrap=True, class_weight=None, criterion='gini',\n",
       "                       max_depth=None, max_features='auto', max_leaf_nodes=None,\n",
       "                       min_impurity_decrease=0.0, min_impurity_split=None,\n",
       "                       min_samples_leaf=1, min_samples_split=2,\n",
       "                       min_weight_fraction_leaf=0.0, n_estimators=500,\n",
       "                       n_jobs=None, oob_score=False, random_state=42, verbose=0,\n",
       "                       warm_start=False)"
      ]
     },
     "execution_count": 277,
     "metadata": {},
     "output_type": "execute_result"
    }
   ],
   "source": [
    "from sklearn.ensemble import RandomForestClassifier\n",
    "rf = RandomForestClassifier(n_estimators = 500, random_state = 42)\n",
    "rf.fit(train_features, train_labels)"
   ]
  },
  {
   "cell_type": "code",
   "execution_count": 278,
   "metadata": {},
   "outputs": [
    {
     "name": "stdout",
     "output_type": "stream",
     "text": [
      "accuracy is:  88.19531839919456 %\n"
     ]
    }
   ],
   "source": [
    "print('accuracy is: ', 100 * accuracy_score(test_labels, predictions ),'%')"
   ]
  },
  {
   "cell_type": "code",
   "execution_count": 279,
   "metadata": {},
   "outputs": [
    {
     "data": {
      "text/plain": [
       "Text(0.5, 1.0, 'Variable Importances')"
      ]
     },
     "execution_count": 279,
     "metadata": {},
     "output_type": "execute_result"
    },
    {
     "data": {
      "image/png": "[encoded data removed]",
      "text/plain": [
       "<Figure size 1224x720 with 1 Axes>"
      ]
     },
     "metadata": {},
     "output_type": "display_data"
    }
   ],
   "source": [
    "import matplotlib.pyplot as plt\n",
    "plt.figure(figsize=(17,10))\n",
    "plt.style.use('fivethirtyeight')\n",
    "x_values = list(range(len(importances)))\n",
    "plt.bar(x_values, importances, orientation = 'vertical')\n",
    "plt.xticks(x_values, feature_list, rotation='vertical')\n",
    "plt.ylabel('Importance'); plt.xlabel('Variable'); plt.title('Variable Importances')"
   ]
  },
  {
   "cell_type": "code",
   "execution_count": 280,
   "metadata": {},
   "outputs": [],
   "source": [
    "importances = list(rf.feature_importances_)"
   ]
  },
  {
   "cell_type": "code",
   "execution_count": 281,
   "metadata": {},
   "outputs": [],
   "source": [
    "feature_importances = [(feature, round(importance, 2)) for feature, importance in zip(feature_list, importances)]"
   ]
  },
  {
   "cell_type": "code",
   "execution_count": 282,
   "metadata": {},
   "outputs": [],
   "source": [
    "feature_importances = sorted(feature_importances, key = lambda x: x[1], reverse = True)"
   ]
  },
  {
   "cell_type": "code",
   "execution_count": 283,
   "metadata": {
    "collapsed": true
   },
   "outputs": [
    {
     "name": "stdout",
     "output_type": "stream",
     "text": [
      "Variable: q10_1                Importance: 0.08\n",
      "Variable: q7                   Importance: 0.06\n",
      "Variable: q7_2                 Importance: 0.06\n",
      "Variable: q5_1                 Importance: 0.05\n",
      "Variable: q6_1                 Importance: 0.05\n",
      "Variable: q10_3                Importance: 0.04\n",
      "Variable: q10_12               Importance: 0.03\n",
      "Variable: q10_2                Importance: 0.03\n",
      "Variable: q10_5                Importance: 0.03\n",
      "Variable: q10_6                Importance: 0.03\n",
      "Variable: q10_7                Importance: 0.03\n",
      "Variable: q10_8                Importance: 0.03\n",
      "Variable: q10_9                Importance: 0.03\n",
      "Variable: q4_a                 Importance: 0.03\n",
      "Variable: q6_3_a               Importance: 0.03\n",
      "Variable: q10_10               Importance: 0.02\n",
      "Variable: q10_11               Importance: 0.02\n",
      "Variable: q6_4                 Importance: 0.02\n",
      "Variable: q10_4                Importance: 0.01\n",
      "Variable: q2_1_1               Importance: 0.01\n",
      "Variable: q2_1_2               Importance: 0.01\n",
      "Variable: q2_1_5               Importance: 0.01\n",
      "Variable: q2_c_1               Importance: 0.01\n",
      "Variable: q2_c_2               Importance: 0.01\n",
      "Variable: q3                   Importance: 0.01\n",
      "Variable: q4_1_a               Importance: 0.01\n",
      "Variable: q6_2                 Importance: 0.01\n",
      "Variable: q6_5_2               Importance: 0.01\n",
      "Variable: q6_5_6               Importance: 0.01\n",
      "Variable: q6_6_1               Importance: 0.01\n",
      "Variable: q6_6_11              Importance: 0.01\n",
      "Variable: q6_6_2               Importance: 0.01\n",
      "Variable: q6_6_3               Importance: 0.01\n",
      "Variable: q6_6_4               Importance: 0.01\n",
      "Variable: q6_6_5               Importance: 0.01\n",
      "Variable: q6_6_6               Importance: 0.01\n",
      "Variable: q6_6_7               Importance: 0.01\n",
      "Variable: q6_6_8               Importance: 0.01\n",
      "Variable: q6_6_9               Importance: 0.01\n",
      "Variable: q8                   Importance: 0.01\n",
      "Variable: q9                   Importance: 0.01\n",
      "Variable: q1                   Importance: 0.0\n",
      "Variable: q2_1_3               Importance: 0.0\n",
      "Variable: q2_1_4               Importance: 0.0\n",
      "Variable: q2_a                 Importance: 0.0\n",
      "Variable: q2_b                 Importance: 0.0\n",
      "Variable: q6_5_1               Importance: 0.0\n",
      "Variable: q6_5_10              Importance: 0.0\n",
      "Variable: q6_5_11              Importance: 0.0\n",
      "Variable: q6_5_12              Importance: 0.0\n",
      "Variable: q6_5_13              Importance: 0.0\n",
      "Variable: q6_5_3               Importance: 0.0\n",
      "Variable: q6_5_4               Importance: 0.0\n",
      "Variable: q6_5_5               Importance: 0.0\n",
      "Variable: q6_5_7               Importance: 0.0\n",
      "Variable: q6_5_8               Importance: 0.0\n",
      "Variable: q6_5_9               Importance: 0.0\n",
      "Variable: q6_6_10              Importance: 0.0\n",
      "Variable: q6_6_12              Importance: 0.0\n",
      "Variable: q6_6_13              Importance: 0.0\n",
      "Variable: q6_6_14              Importance: 0.0\n",
      "Variable: q6_6_15              Importance: 0.0\n",
      "Variable: q6_6_16              Importance: 0.0\n",
      "Variable: q6_6_17              Importance: 0.0\n",
      "Variable: q6_6_18              Importance: 0.0\n",
      "Variable: q6_6_19              Importance: 0.0\n",
      "Variable: q6_6_20              Importance: 0.0\n",
      "Variable: q6_6_21              Importance: 0.0\n",
      "Variable: type1                Importance: 0.0\n"
     ]
    }
   ],
   "source": [
    "[print('Variable: {:20} Importance: {}'.format(*pair)) for pair in feature_importances];"
   ]
  },
  {
   "cell_type": "code",
   "execution_count": 174,
   "metadata": {},
   "outputs": [
    {
     "data": {
      "text/plain": [
       "4    7665\n",
       "5    2943\n",
       "3    1192\n",
       "0     945\n",
       "9     484\n",
       "2      11\n",
       "1       1\n",
       "Name: q10_1, dtype: int64"
      ]
     },
     "execution_count": 174,
     "metadata": {},
     "output_type": "execute_result"
    }
   ],
   "source": [
    "df3['q10_1'].value_counts()"
   ]
  },
  {
   "cell_type": "code",
   "execution_count": 181,
   "metadata": {},
   "outputs": [],
   "source": [
    "df3['q6_8'] = df3['q6_8'].replace(1,0)\n",
    "df3['q6_8'] = df3['q6_8'].replace(2,0)\n",
    "df3['q6_8'] = df3['q6_8'].replace(3,0)\n",
    "df3['q6_8'] = df3['q6_8'].replace(4,0)\n",
    "df3['q6_8'] = df3['q6_8'].replace(5,1)"
   ]
  },
  {
   "cell_type": "code",
   "execution_count": 180,
   "metadata": {},
   "outputs": [],
   "source": [
    "df3['q6_9'] = df3['q6_9'].replace(1,0)\n",
    "df3['q6_9'] = df3['q6_9'].replace(2,0)\n",
    "df3['q6_9'] = df3['q6_9'].replace(3,0)\n",
    "df3['q6_9'] = df3['q6_9'].replace(4,0)\n",
    "df3['q6_9'] = df3['q6_9'].replace(5,1)"
   ]
  },
  {
   "cell_type": "code",
   "execution_count": 183,
   "metadata": {},
   "outputs": [],
   "source": [
    "d = df3[['q6_7', 'q6_8', 'q6_9']].mean(axis=1)"
   ]
  },
  {
   "cell_type": "code",
   "execution_count": 187,
   "metadata": {},
   "outputs": [
    {
     "data": {
      "text/plain": [
       "0.000000    0.788838\n",
       "1.000000    0.103164\n",
       "0.333333    0.070690\n",
       "0.666667    0.037308\n",
       "dtype: float64"
      ]
     },
     "execution_count": 187,
     "metadata": {},
     "output_type": "execute_result"
    }
   ],
   "source": [
    "d.value_counts()/d.value_counts().sum()"
   ]
  },
  {
   "cell_type": "code",
   "execution_count": 189,
   "metadata": {},
   "outputs": [
    {
     "data": {
      "text/plain": [
       "count    13241.000000\n",
       "mean         0.151600\n",
       "std          0.323459\n",
       "min          0.000000\n",
       "25%          0.000000\n",
       "50%          0.000000\n",
       "75%          0.000000\n",
       "max          1.000000\n",
       "dtype: float64"
      ]
     },
     "execution_count": 189,
     "metadata": {},
     "output_type": "execute_result"
    }
   ],
   "source": [
    "d.describe()"
   ]
  },
  {
   "cell_type": "code",
   "execution_count": 199,
   "metadata": {},
   "outputs": [],
   "source": [
    "df=df3[['q6_7', 'q6_8', 'q6_9']].mean(axis=0)"
   ]
  },
  {
   "cell_type": "code",
   "execution_count": 200,
   "metadata": {},
   "outputs": [
    {
     "data": {
      "text/plain": [
       "4.019003469963131"
      ]
     },
     "execution_count": 200,
     "metadata": {},
     "output_type": "execute_result"
    }
   ],
   "source": [
    "df.mean()"
   ]
  },
  {
   "cell_type": "code",
   "execution_count": 204,
   "metadata": {},
   "outputs": [
    {
     "data": {
      "text/plain": [
       "q6_7    4.060670\n",
       "q6_8    4.012036\n",
       "q6_9    3.984304\n",
       "dtype: float64"
      ]
     },
     "execution_count": 204,
     "metadata": {},
     "output_type": "execute_result"
    }
   ],
   "source": [
    "df3[['q6_7', 'q6_8', 'q6_9']].mean()"
   ]
  },
  {
   "cell_type": "code",
   "execution_count": 289,
   "metadata": {
    "collapsed": true
   },
   "outputs": [
    {
     "data": {
      "text/plain": [
       "1     0.493241\n",
       "2     0.120157\n",
       "7     0.091836\n",
       "0     0.071369\n",
       "4     0.062911\n",
       "3     0.029681\n",
       "9     0.024167\n",
       "5     0.020920\n",
       "15    0.020014\n",
       "12    0.019485\n",
       "11    0.016842\n",
       "6     0.009894\n",
       "13    0.007024\n",
       "10    0.004909\n",
       "14    0.004456\n",
       "8     0.003096\n",
       "Name: q6_3_a, dtype: float64"
      ]
     },
     "execution_count": 289,
     "metadata": {},
     "output_type": "execute_result"
    }
   ],
   "source": [
    "(df3['q6_3_a']).value_counts()/(df3['q6_3_a']).value_counts().sum()"
   ]
  },
  {
   "cell_type": "code",
   "execution_count": 295,
   "metadata": {},
   "outputs": [
    {
     "data": {
      "text/plain": [
       "Index(['q1', 'q10_1', 'q10_10', 'q10_11', 'q10_12', 'q10_2', 'q10_3', 'q10_4',\n",
       "       'q10_5', 'q10_6', 'q10_7', 'q10_8', 'q10_9', 'q2_1_1', 'q2_1_2',\n",
       "       'q2_1_3', 'q2_1_4', 'q2_1_5', 'q2_a', 'q2_b', 'q2_c_1', 'q2_c_2', 'q3',\n",
       "       'q4_1_a', 'q4_a', 'q5_1', 'q6_1', 'q6_2', 'q6_3_a', 'q6_4', 'q6_5_1',\n",
       "       'q6_5_10', 'q6_5_11', 'q6_5_12', 'q6_5_13', 'q6_5_2', 'q6_5_3',\n",
       "       'q6_5_4', 'q6_5_5', 'q6_5_6', 'q6_5_7', 'q6_5_8', 'q6_5_9', 'q6_6_1',\n",
       "       'q6_6_10', 'q6_6_11', 'q6_6_12', 'q6_6_13', 'q6_6_14', 'q6_6_15',\n",
       "       'q6_6_16', 'q6_6_17', 'q6_6_18', 'q6_6_19', 'q6_6_2', 'q6_6_20',\n",
       "       'q6_6_21', 'q6_6_3', 'q6_6_4', 'q6_6_5', 'q6_6_6', 'q6_6_7', 'q6_6_8',\n",
       "       'q6_6_9', 'q6_7', 'q6_8', 'q6_9', 'q7', 'q7_2', 'q8', 'q9', 'type1'],\n",
       "      dtype='object')"
      ]
     },
     "execution_count": 295,
     "metadata": {},
     "output_type": "execute_result"
    }
   ],
   "source": [
    "df3.columns"
   ]
  },
  {
   "cell_type": "code",
   "execution_count": 294,
   "metadata": {},
   "outputs": [
    {
     "ename": "SyntaxError",
     "evalue": "(unicode error) 'unicodeescape' codec can't decode bytes in position 0-1: truncated \\UXXXXXXXX escape (<ipython-input-294-06fe2c96e886>, line 1)",
     "output_type": "error",
     "traceback": [
      "\u001b[1;36m  File \u001b[1;32m\"<ipython-input-294-06fe2c96e886>\"\u001b[1;36m, line \u001b[1;32m1\u001b[0m\n\u001b[1;33m    df3.to_excel('\\Users\\a\\Desktop\\data', sheet_name='Sheet1', index =False)\u001b[0m\n\u001b[1;37m                ^\u001b[0m\n\u001b[1;31mSyntaxError\u001b[0m\u001b[1;31m:\u001b[0m (unicode error) 'unicodeescape' codec can't decode bytes in position 0-1: truncated \\UXXXXXXXX escape\n"
     ]
    }
   ],
   "source": [
    "df3.to_excel('\\Users\\a\\Desktop\\data', sheet_name='Sheet1', index =False)"
   ]
  },
  {
   "cell_type": "code",
   "execution_count": null,
   "metadata": {},
   "outputs": [],
   "source": []
  }
 ],
 "metadata": {
  "kernelspec": {
   "display_name": "Python 3",
   "language": "python",
   "name": "python3"
  },
  "language_info": {
   "codemirror_mode": {
    "name": "ipython",
    "version": 3
   },
   "file_extension": ".py",
   "mimetype": "text/x-python",
   "name": "python",
   "nbconvert_exporter": "python",
   "pygments_lexer": "ipython3",
   "version": "3.7.3"
  }
 },
 "nbformat": 4,
 "nbformat_minor": 2
}
